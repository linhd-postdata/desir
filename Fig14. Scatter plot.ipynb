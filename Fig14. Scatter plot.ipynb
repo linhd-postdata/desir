{
 "cells": [
  {
   "cell_type": "markdown",
   "metadata": {},
   "source": [
    "# Figure 14. Scatter plot of research centres by number of projects and total funding obtained during the whole analysed period (1993-2019)"
   ]
  },
  {
   "cell_type": "markdown",
   "metadata": {},
   "source": [
    "#### Import libraries"
   ]
  },
  {
   "cell_type": "code",
   "execution_count": 1,
   "metadata": {},
   "outputs": [],
   "source": [
    "import matplotlib.pyplot as plt\n",
    "import numpy as np\n",
    "import pandas as pd\n",
    "import matplotlib as mpl\n",
    "\n",
    "from collections import Counter\n",
    "\n",
    "def read_csv(path):\n",
    "    \"\"\"\n",
    "    :param path: of desir the xlsx file\n",
    "    :return: String that contains all project descriptions\n",
    "    \"\"\"\n",
    "    df = pd.read_csv(path)\n",
    "    filtered_df = df.replace(np.nan, 0, regex=True)\n",
    "    \n",
    "    \n",
    "    return filtered_df"
   ]
  },
  {
   "cell_type": "markdown",
   "metadata": {},
   "source": [
    "#### Define projects data path"
   ]
  },
  {
   "cell_type": "code",
   "execution_count": 2,
   "metadata": {},
   "outputs": [],
   "source": [
    "file_path = \"data/mapeo_proyectos.csv\""
   ]
  },
  {
   "cell_type": "markdown",
   "metadata": {},
   "source": [
    "#### Define function to clean projects data"
   ]
  },
  {
   "cell_type": "code",
   "execution_count": 48,
   "metadata": {},
   "outputs": [],
   "source": [
    "def prepare_data(data):\n",
    "    mini = data[[\"ID proyecto\",\"Financiación\", \"Organismo\"]] \n",
    "    mini = mini.groupby(['ID proyecto','Organismo'])[\"Financiación\"].apply(list).reset_index(name='Financiación')\n",
    "    new_fins = [fin[0] for fin in mini[\"Financiación\"]]\n",
    "    mini[\"Financiación\"] = new_fins\n",
    "    grouped = mini.groupby(\"Organismo\", as_index=False)\n",
    "    df2 = grouped.agg({'Financiación':['count', 'sum']})\n",
    "    df2.columns = [\"organismo\", \"count\", \"funding\"]\n",
    "    df2.set_index(\"organismo\")\n",
    "    df2 = df2.sort_values(by=['count'], ascending= False)\n",
    "    df2 = df2.reset_index(drop=True)\n",
    "    acronimos = read_csv(\"data/Universidades-Table 1.csv\")\n",
    "    acronimos = acronimos[['Insitución', 'Acrónimo']]\n",
    "    acronimos['Insitución'] = acronimos['Insitución'].str.upper()\n",
    "    acronimos['Insitución'] = acronimos['Insitución'].str.normalize('NFKD').str.encode('ascii', errors='ignore').str.decode('utf-8')\n",
    "    acronimos['Insitución'] = acronimos['Insitución'].str.upper()\n",
    "    acronimos = acronimos.rename(columns={\"Insitución\": \"organismo\", \"Acrónimo\": \"acronimo\"})\n",
    "    df_def = pd.merge(df2, acronimos, on='organismo', how='outer', validate=\"one_to_many\")\n",
    "    return df_def, acronimos"
   ]
  },
  {
   "cell_type": "markdown",
   "metadata": {},
   "source": [
    "#### Run program"
   ]
  },
  {
   "cell_type": "code",
   "execution_count": 49,
   "metadata": {},
   "outputs": [],
   "source": [
    "proyectos = read_csv(file_path)\n",
    "df, acr = prepare_data(proyectos)"
   ]
  },
  {
   "cell_type": "code",
   "execution_count": 51,
   "metadata": {},
   "outputs": [
    {
     "data": {
      "text/html": [
       "<div>\n",
       "<style scoped>\n",
       "    .dataframe tbody tr th:only-of-type {\n",
       "        vertical-align: middle;\n",
       "    }\n",
       "\n",
       "    .dataframe tbody tr th {\n",
       "        vertical-align: top;\n",
       "    }\n",
       "\n",
       "    .dataframe thead th {\n",
       "        text-align: right;\n",
       "    }\n",
       "</style>\n",
       "<table border=\"1\" class=\"dataframe\">\n",
       "  <thead>\n",
       "    <tr style=\"text-align: right;\">\n",
       "      <th></th>\n",
       "      <th>organismo</th>\n",
       "      <th>count</th>\n",
       "      <th>funding</th>\n",
       "      <th>acronimo</th>\n",
       "    </tr>\n",
       "  </thead>\n",
       "  <tbody>\n",
       "    <tr>\n",
       "      <th>0</th>\n",
       "      <td>UNIVERSIDAD DE BARCELONA</td>\n",
       "      <td>33.0</td>\n",
       "      <td>1783391.0</td>\n",
       "      <td>UB</td>\n",
       "    </tr>\n",
       "    <tr>\n",
       "      <th>1</th>\n",
       "      <td>UNIVERSIDAD COMPLUTENSE DE MADRID</td>\n",
       "      <td>30.0</td>\n",
       "      <td>1321786.0</td>\n",
       "      <td>UCM</td>\n",
       "    </tr>\n",
       "    <tr>\n",
       "      <th>2</th>\n",
       "      <td>AGENCIA ESTATAL CONSEJO SUPERIOR DE INVESTIGAC...</td>\n",
       "      <td>25.0</td>\n",
       "      <td>1131889.0</td>\n",
       "      <td>CSIC</td>\n",
       "    </tr>\n",
       "    <tr>\n",
       "      <th>3</th>\n",
       "      <td>UNIVERSIDADE DE SANTIAGO DE COMPOSTELA</td>\n",
       "      <td>23.0</td>\n",
       "      <td>957839.0</td>\n",
       "      <td>NaN</td>\n",
       "    </tr>\n",
       "    <tr>\n",
       "      <th>4</th>\n",
       "      <td>UNIVERSIDAD DE GRANADA</td>\n",
       "      <td>21.0</td>\n",
       "      <td>812610.0</td>\n",
       "      <td>UGR</td>\n",
       "    </tr>\n",
       "    <tr>\n",
       "      <th>...</th>\n",
       "      <td>...</td>\n",
       "      <td>...</td>\n",
       "      <td>...</td>\n",
       "      <td>...</td>\n",
       "    </tr>\n",
       "    <tr>\n",
       "      <th>133</th>\n",
       "      <td>UNIVERSITAT DE VALENCIA</td>\n",
       "      <td>NaN</td>\n",
       "      <td>NaN</td>\n",
       "      <td>UV</td>\n",
       "    </tr>\n",
       "    <tr>\n",
       "      <th>134</th>\n",
       "      <td>TELEFONICA I+D</td>\n",
       "      <td>NaN</td>\n",
       "      <td>NaN</td>\n",
       "      <td>TID</td>\n",
       "    </tr>\n",
       "    <tr>\n",
       "      <th>135</th>\n",
       "      <td>UNIVERSITE PARIS 8</td>\n",
       "      <td>NaN</td>\n",
       "      <td>NaN</td>\n",
       "      <td>UP8</td>\n",
       "    </tr>\n",
       "    <tr>\n",
       "      <th>136</th>\n",
       "      <td>UNIVERSIDAD DE ALMERIA</td>\n",
       "      <td>NaN</td>\n",
       "      <td>NaN</td>\n",
       "      <td>UAL</td>\n",
       "    </tr>\n",
       "    <tr>\n",
       "      <th>137</th>\n",
       "      <td>UNIVERSIDAD DE DEUSTO</td>\n",
       "      <td>NaN</td>\n",
       "      <td>NaN</td>\n",
       "      <td>UDE</td>\n",
       "    </tr>\n",
       "  </tbody>\n",
       "</table>\n",
       "<p>138 rows × 4 columns</p>\n",
       "</div>"
      ],
      "text/plain": [
       "                                             organismo  count    funding  \\\n",
       "0                             UNIVERSIDAD DE BARCELONA   33.0  1783391.0   \n",
       "1                    UNIVERSIDAD COMPLUTENSE DE MADRID   30.0  1321786.0   \n",
       "2    AGENCIA ESTATAL CONSEJO SUPERIOR DE INVESTIGAC...   25.0  1131889.0   \n",
       "3               UNIVERSIDADE DE SANTIAGO DE COMPOSTELA   23.0   957839.0   \n",
       "4                               UNIVERSIDAD DE GRANADA   21.0   812610.0   \n",
       "..                                                 ...    ...        ...   \n",
       "133                            UNIVERSITAT DE VALENCIA    NaN        NaN   \n",
       "134                                     TELEFONICA I+D    NaN        NaN   \n",
       "135                                 UNIVERSITE PARIS 8    NaN        NaN   \n",
       "136                             UNIVERSIDAD DE ALMERIA    NaN        NaN   \n",
       "137                              UNIVERSIDAD DE DEUSTO    NaN        NaN   \n",
       "\n",
       "    acronimo  \n",
       "0         UB  \n",
       "1        UCM  \n",
       "2       CSIC  \n",
       "3        NaN  \n",
       "4        UGR  \n",
       "..       ...  \n",
       "133       UV  \n",
       "134      TID  \n",
       "135      UP8  \n",
       "136      UAL  \n",
       "137      UDE  \n",
       "\n",
       "[138 rows x 4 columns]"
      ]
     },
     "execution_count": 51,
     "metadata": {},
     "output_type": "execute_result"
    }
   ],
   "source": [
    "df"
   ]
  },
  {
   "cell_type": "markdown",
   "metadata": {},
   "source": [
    "#### Print graph"
   ]
  },
  {
   "cell_type": "code",
   "execution_count": 52,
   "metadata": {},
   "outputs": [
    {
     "data": {
      "text/plain": [
       "<Figure size 432x288 with 0 Axes>"
      ]
     },
     "metadata": {},
     "output_type": "display_data"
    },
    {
     "data": {
      "image/png": "[encoded data removed]",
      "text/plain": [
       "<Figure size 1080x1080 with 1 Axes>"
      ]
     },
     "metadata": {
      "needs_background": "light"
     },
     "output_type": "display_data"
    }
   ],
   "source": [
    "plt.figure()\n",
    "fig, ax = plt.subplots(figsize=(15,15))\n",
    "ax.scatter(df[\"count\"], df[\"funding\"], alpha=0.5)\n",
    "ax.set(ylabel=\"funding (millions)\", xlabel=\"Number of projects\")\n",
    "ax.set_ylim(bottom=0)\n",
    "ax.set_xlim(left=0)\n",
    "\n",
    "n = df[\"acronimo\"]\n",
    "for i, txt in enumerate(n):\n",
    "    ax.annotate(txt, (df[\"count\"][i], df[\"funding\"][i]))\n",
    "\n",
    "plt.show()"
   ]
  },
  {
   "cell_type": "code",
   "execution_count": null,
   "metadata": {},
   "outputs": [],
   "source": []
  }
 ],
 "metadata": {
  "kernelspec": {
   "display_name": "Python 3",
   "language": "python",
   "name": "python3"
  },
  "language_info": {
   "codemirror_mode": {
    "name": "ipython",
    "version": 3
   },
   "file_extension": ".py",
   "mimetype": "text/x-python",
   "name": "python",
   "nbconvert_exporter": "python",
   "pygments_lexer": "ipython3",
   "version": "3.7.5"
  }
 },
 "nbformat": 4,
 "nbformat_minor": 2
}
