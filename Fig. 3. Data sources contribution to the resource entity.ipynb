{
 "cells": [
  {
   "cell_type": "markdown",
   "metadata": {},
   "source": [
    "# Figure 3. Data sources presented as a treemap chart, weighted according to their contribution to the resource entity. "
   ]
  },
  {
   "cell_type": "markdown",
   "metadata": {},
   "source": [
    "#### Import libraries"
   ]
  },
  {
   "cell_type": "code",
   "execution_count": 1,
   "metadata": {},
   "outputs": [],
   "source": [
    "import matplotlib.pyplot as plt\n",
    "import numpy as np\n",
    "import pandas as pd\n",
    "\n",
    "from collections import Counter\n",
    "\n",
    "def read_csv(path):\n",
    "    \"\"\"\n",
    "    :param path: of desir the xlsx file\n",
    "    :return: String that contains all project descriptions\n",
    "    \"\"\"\n",
    "    df = pd.read_csv(path)\n",
    "    filtered_df = df.replace(np.nan, '-', regex=True)\n",
    "    \n",
    "    \n",
    "    return filtered_df"
   ]
  },
  {
   "cell_type": "markdown",
   "metadata": {},
   "source": [
    "#### Define projects data path and number of resources to print\n"
   ]
  },
  {
   "cell_type": "code",
   "execution_count": 2,
   "metadata": {},
   "outputs": [],
   "source": [
    "# recursos = read_csv(\"data/mapeo_recursos.csv\")\n",
    "file_path = \"data/mapeo_recursos.csv\"\n",
    "number_of_resources = 10"
   ]
  },
  {
   "cell_type": "code",
   "execution_count": 3,
   "metadata": {
    "scrolled": false
   },
   "outputs": [],
   "source": [
    "\n",
    "def prepare_data(data, number_of_resources): \n",
    "    mini = data[\"Fuente de información\"]\n",
    "    sources_list = mini.tolist()\n",
    "    def_list = []\n",
    "    for item in sources_list:\n",
    "        if \",\" in item:\n",
    "            comas = item.split(\", \")\n",
    "            for element in comas:\n",
    "                def_list.append(element.strip())\n",
    "        else: \n",
    "            def_list.append(item.strip())\n",
    "    counter = Counter(def_list).most_common(number_of_resources)\n",
    "    sources_dict = dict(counter)\n",
    "    acronimos = read_csv(\"data/Fuentes-Table 1.csv\")\n",
    "    acronimos = acronimos.set_index('Fuente propia')\n",
    "    acronimos_dict = acronimos.T.to_dict('records')\n",
    "    acronimos_dict = acronimos_dict[0]\n",
    "    # new dict with acronims\n",
    "    corrected_dict = {}\n",
    "    for key, value in sources_dict.items():\n",
    "        corrected_dict.update({ acronimos_dict.get(key, \"No especificado\"): value })\n",
    "    return corrected_dict, sources_dict"
   ]
  },
  {
   "cell_type": "markdown",
   "metadata": {},
   "source": [
    "##### Run program"
   ]
  },
  {
   "cell_type": "code",
   "execution_count": 4,
   "metadata": {},
   "outputs": [],
   "source": [
    "recursos = read_csv(file_path)    \n",
    "corrected_dict, sources_dict = prepare_data(recursos, number_of_resources)"
   ]
  },
  {
   "cell_type": "markdown",
   "metadata": {},
   "source": [
    "# Print treemap"
   ]
  },
  {
   "cell_type": "code",
   "execution_count": 5,
   "metadata": {},
   "outputs": [],
   "source": [
    "import squarify"
   ]
  },
  {
   "cell_type": "code",
   "execution_count": 6,
   "metadata": {},
   "outputs": [
    {
     "data": {
      "image/png": "[encoded data removed]",
      "text/plain": [
       "<Figure size 1152x1152 with 1 Axes>"
      ]
     },
     "metadata": {
      "needs_background": "light"
     },
     "output_type": "display_data"
    }
   ],
   "source": [
    "#Create our plot and resize it.\n",
    "fig = plt.gcf()\n",
    "ax = fig.add_subplot()\n",
    "fig.set_size_inches(16, 16)\n",
    "colors = [\"red\", \"tan\", \"green\", \"blue\", \"grey\", \"gold\", \"violet\", \"pink\", \"cyan\", \"indigo\"]\n",
    "squarify.plot(sizes=corrected_dict.values(), label=corrected_dict.keys(), color=colors, alpha=.5, text_kwargs={'fontsize':10})\n",
    "plt.title(\"Fuentes de información - Proyectos\",fontsize=23,fontweight=\"bold\")\n",
    "\n",
    "plt.axis('off')\n",
    "plt.show() "
   ]
  },
  {
   "cell_type": "markdown",
   "metadata": {},
   "source": [
    "# Print table"
   ]
  },
  {
   "cell_type": "code",
   "execution_count": 7,
   "metadata": {},
   "outputs": [
    {
     "data": {
      "text/html": [
       "<div>\n",
       "<style scoped>\n",
       "    .dataframe tbody tr th:only-of-type {\n",
       "        vertical-align: middle;\n",
       "    }\n",
       "\n",
       "    .dataframe tbody tr th {\n",
       "        vertical-align: top;\n",
       "    }\n",
       "\n",
       "    .dataframe thead th {\n",
       "        text-align: right;\n",
       "    }\n",
       "</style>\n",
       "<table border=\"1\" class=\"dataframe\">\n",
       "  <thead>\n",
       "    <tr style=\"text-align: right;\">\n",
       "      <th></th>\n",
       "      <th>0</th>\n",
       "    </tr>\n",
       "  </thead>\n",
       "  <tbody>\n",
       "    <tr>\n",
       "      <th>ARACNE</th>\n",
       "      <td>58</td>\n",
       "    </tr>\n",
       "    <tr>\n",
       "      <th>CONGRESO INTERNACIONAL HUMANIDADES DIGITALES: VISIBILIDAD Y DIFUSIÓN DE LA INVESTIGACIÓN</th>\n",
       "      <td>21</td>\n",
       "    </tr>\n",
       "    <tr>\n",
       "      <th>Fuente propia</th>\n",
       "      <td>14</td>\n",
       "    </tr>\n",
       "    <tr>\n",
       "      <th>Google</th>\n",
       "      <td>13</td>\n",
       "    </tr>\n",
       "    <tr>\n",
       "      <th>Congresos Humanidades Digitales Hispánicas</th>\n",
       "      <td>12</td>\n",
       "    </tr>\n",
       "    <tr>\n",
       "      <th>GrinUGR</th>\n",
       "      <td>7</td>\n",
       "    </tr>\n",
       "    <tr>\n",
       "      <th>Fundación BBVA</th>\n",
       "      <td>6</td>\n",
       "    </tr>\n",
       "    <tr>\n",
       "      <th>Red Knowmetrics</th>\n",
       "      <td>6</td>\n",
       "    </tr>\n",
       "    <tr>\n",
       "      <th>Jornada: Proyectos de humanidades digitales en la BNE</th>\n",
       "      <td>6</td>\n",
       "    </tr>\n",
       "    <tr>\n",
       "      <th>Bibliografía</th>\n",
       "      <td>6</td>\n",
       "    </tr>\n",
       "  </tbody>\n",
       "</table>\n",
       "</div>"
      ],
      "text/plain": [
       "                                                     0\n",
       "ARACNE                                              58\n",
       "CONGRESO INTERNACIONAL HUMANIDADES DIGITALES: V...  21\n",
       "Fuente propia                                       14\n",
       "Google                                              13\n",
       "Congresos Humanidades Digitales Hispánicas          12\n",
       "GrinUGR                                              7\n",
       "Fundación BBVA                                       6\n",
       "Red Knowmetrics                                      6\n",
       "Jornada: Proyectos de humanidades digitales en ...   6\n",
       "Bibliografía                                         6"
      ]
     },
     "execution_count": 7,
     "metadata": {},
     "output_type": "execute_result"
    }
   ],
   "source": [
    "sources_table = pd.DataFrame.from_dict(sources_dict, orient='index')\n",
    "sources_table"
   ]
  },
  {
   "cell_type": "code",
   "execution_count": null,
   "metadata": {},
   "outputs": [],
   "source": []
  }
 ],
 "metadata": {
  "kernelspec": {
   "display_name": "Python 3",
   "language": "python",
   "name": "python3"
  },
  "language_info": {
   "codemirror_mode": {
    "name": "ipython",
    "version": 3
   },
   "file_extension": ".py",
   "mimetype": "text/x-python",
   "name": "python",
   "nbconvert_exporter": "python",
   "pygments_lexer": "ipython3",
   "version": "3.7.5"
  }
 },
 "nbformat": 4,
 "nbformat_minor": 2
}
