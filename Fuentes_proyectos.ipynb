{
 "cells": [
  {
   "cell_type": "code",
   "execution_count": 60,
   "metadata": {},
   "outputs": [],
   "source": [
    "import matplotlib.pyplot as plt\n",
    "import numpy as np\n",
    "import pandas as pd\n",
    "\n",
    "from collections import Counter\n",
    "\n",
    "def read_csv(path):\n",
    "    \"\"\"\n",
    "    :param path: of desir the xlsx file\n",
    "    :return: String that contains all project descriptions\n",
    "    \"\"\"\n",
    "    df = pd.read_csv(path)\n",
    "    filtered_df = df.replace(np.nan, '-', regex=True)\n",
    "    \n",
    "    \n",
    "    return filtered_df"
   ]
  },
  {
   "cell_type": "code",
   "execution_count": 61,
   "metadata": {},
   "outputs": [],
   "source": [
    "proyectos = read_csv(\"data/mapeo_proyectos.csv\")"
   ]
  },
  {
   "cell_type": "code",
   "execution_count": 62,
   "metadata": {},
   "outputs": [
    {
     "data": {
      "text/plain": [
       "0      [Fuente propia, Fuente propia, Fuente propia, ...\n",
       "1      [Congresos Humanidades Digitales Hispánicas, C...\n",
       "2                                              [GrinUGR]\n",
       "3      [Congresos Humanidades Digitales Hispánicas, C...\n",
       "4      [Congresos Humanidades Digitales Hispánicas, C...\n",
       "                             ...                        \n",
       "363                   [Agencia Estatal de Investigación]\n",
       "364                   [Agencia Estatal de Investigación]\n",
       "365                   [Agencia Estatal de Investigación]\n",
       "366                   [Agencia Estatal de Investigación]\n",
       "367                   [Agencia Estatal de Investigación]\n",
       "Name: Fuente de información, Length: 368, dtype: object"
      ]
     },
     "execution_count": 62,
     "metadata": {},
     "output_type": "execute_result"
    }
   ],
   "source": [
    "mini = proyectos[[\"ID proyecto\",\"Fuente de información\"]] \n",
    "mini = mini.groupby('ID proyecto')[\"Fuente de información\"].apply(list).reset_index(name='Fuente de información')\n",
    "mini = mini[\"Fuente de información\"]\n",
    "mini"
   ]
  },
  {
   "cell_type": "code",
   "execution_count": 63,
   "metadata": {
    "scrolled": true
   },
   "outputs": [],
   "source": [
    "sources_list = mini.tolist()\n",
    "def_list = []\n",
    "for sources in sources_list:\n",
    "    item = sources[0]\n",
    "    if \",\" in item:\n",
    "        comas = item.split(\", \")\n",
    "        for element in comas:\n",
    "            def_list.append(element.strip())\n",
    "    else: \n",
    "        def_list.append(item.strip())"
   ]
  },
  {
   "cell_type": "code",
   "execution_count": 45,
   "metadata": {
    "scrolled": false
   },
   "outputs": [],
   "source": [
    "counter = Counter(def_list).most_common()"
   ]
  },
  {
   "cell_type": "code",
   "execution_count": 46,
   "metadata": {},
   "outputs": [],
   "source": [
    "sources_dict = dict(counter)"
   ]
  },
  {
   "cell_type": "code",
   "execution_count": 47,
   "metadata": {},
   "outputs": [],
   "source": [
    "acronimos = read_csv(\"data/Fuentes-Table 1.csv\")\n",
    "acronimos = acronimos.set_index('Fuente propia')"
   ]
  },
  {
   "cell_type": "code",
   "execution_count": 48,
   "metadata": {},
   "outputs": [],
   "source": [
    "acronimos_dict = acronimos.T.to_dict('records')"
   ]
  },
  {
   "cell_type": "code",
   "execution_count": 49,
   "metadata": {},
   "outputs": [],
   "source": [
    "acronimos_dict = acronimos_dict[0]"
   ]
  },
  {
   "cell_type": "code",
   "execution_count": 64,
   "metadata": {},
   "outputs": [],
   "source": [
    "# new dict with acronims\n",
    "corrected_dict = {}\n",
    "for key, value in sources_dict.items():\n",
    "    corrected_dict.update({ acronimos_dict.get(key, \"Vacío\"): value }) "
   ]
  },
  {
   "cell_type": "markdown",
   "metadata": {},
   "source": [
    "# Print treemap"
   ]
  },
  {
   "cell_type": "code",
   "execution_count": 65,
   "metadata": {},
   "outputs": [],
   "source": [
    "import squarify"
   ]
  },
  {
   "cell_type": "code",
   "execution_count": 66,
   "metadata": {},
   "outputs": [
    {
     "data": {
      "image/png": "[encoded data removed]",
      "text/plain": [
       "<Figure size 1152x1152 with 1 Axes>"
      ]
     },
     "metadata": {
      "needs_background": "light"
     },
     "output_type": "display_data"
    }
   ],
   "source": [
    "#Create our plot and resize it.\n",
    "fig = plt.gcf()\n",
    "ax = fig.add_subplot()\n",
    "fig.set_size_inches(16, 16)\n",
    "colors = [\"red\", \"tan\", \"green\", \"blue\", \"grey\", \"gold\", \"violet\", \"pink\", \"cyan\", \"indigo\"]\n",
    "squarify.plot(sizes=corrected_dict.values(), label=corrected_dict.keys(), color=colors, alpha=.5, text_kwargs={'fontsize':8})\n",
    "plt.title(\"Fuentes de información - Proyectos\",fontsize=23,fontweight=\"bold\")\n",
    "\n",
    "plt.axis('off')\n",
    "plt.show() "
   ]
  },
  {
   "cell_type": "markdown",
   "metadata": {},
   "source": [
    "# Print table"
   ]
  },
  {
   "cell_type": "code",
   "execution_count": 67,
   "metadata": {},
   "outputs": [
    {
     "data": {
      "text/html": [
       "<div>\n",
       "<style scoped>\n",
       "    .dataframe tbody tr th:only-of-type {\n",
       "        vertical-align: middle;\n",
       "    }\n",
       "\n",
       "    .dataframe tbody tr th {\n",
       "        vertical-align: top;\n",
       "    }\n",
       "\n",
       "    .dataframe thead th {\n",
       "        text-align: right;\n",
       "    }\n",
       "</style>\n",
       "<table border=\"1\" class=\"dataframe\">\n",
       "  <thead>\n",
       "    <tr style=\"text-align: right;\">\n",
       "      <th></th>\n",
       "      <th>0</th>\n",
       "    </tr>\n",
       "  </thead>\n",
       "  <tbody>\n",
       "    <tr>\n",
       "      <th>Agencia Estatal de Investigación</th>\n",
       "      <td>218</td>\n",
       "    </tr>\n",
       "    <tr>\n",
       "      <th>Fundación BBVA</th>\n",
       "      <td>22</td>\n",
       "    </tr>\n",
       "    <tr>\n",
       "      <th>Congresos Humanidades Digitales Hispánicas</th>\n",
       "      <td>17</td>\n",
       "    </tr>\n",
       "    <tr>\n",
       "      <th>Red Knowmetrics</th>\n",
       "      <td>14</td>\n",
       "    </tr>\n",
       "    <tr>\n",
       "      <th>Jornada: Proyectos de humanidades digitales en la BNE</th>\n",
       "      <td>14</td>\n",
       "    </tr>\n",
       "    <tr>\n",
       "      <th>Proyectos subvencionados RecerCaixa</th>\n",
       "      <td>11</td>\n",
       "    </tr>\n",
       "    <tr>\n",
       "      <th>CONGRESO INTERNACIONAL HUMANIDADES DIGITALES: VISIBILIDAD Y DIFUSIÓN DE LA INVESTIGACIÓN</th>\n",
       "      <td>10</td>\n",
       "    </tr>\n",
       "    <tr>\n",
       "      <th>ARACNE</th>\n",
       "      <td>9</td>\n",
       "    </tr>\n",
       "    <tr>\n",
       "      <th>Fuente propia</th>\n",
       "      <td>6</td>\n",
       "    </tr>\n",
       "    <tr>\n",
       "      <th>GrinUGR</th>\n",
       "      <td>6</td>\n",
       "    </tr>\n",
       "    <tr>\n",
       "      <th>BIDISO</th>\n",
       "      <td>6</td>\n",
       "    </tr>\n",
       "    <tr>\n",
       "      <th>Bibliografía</th>\n",
       "      <td>6</td>\n",
       "    </tr>\n",
       "    <tr>\n",
       "      <th>Google</th>\n",
       "      <td>5</td>\n",
       "    </tr>\n",
       "    <tr>\n",
       "      <th>Biblioteca Virtual Miguel de Cervantes</th>\n",
       "      <td>5</td>\n",
       "    </tr>\n",
       "    <tr>\n",
       "      <th>I Jornada científico-técnica en Humanidades Digitales en el CSIC</th>\n",
       "      <td>5</td>\n",
       "    </tr>\n",
       "    <tr>\n",
       "      <th>Congreso Territorio digitales</th>\n",
       "      <td>5</td>\n",
       "    </tr>\n",
       "    <tr>\n",
       "      <th>Proyectos MediaLab UGR</th>\n",
       "      <td>5</td>\n",
       "    </tr>\n",
       "    <tr>\n",
       "      <th>Web personal</th>\n",
       "      <td>3</td>\n",
       "    </tr>\n",
       "    <tr>\n",
       "      <th>Proyecto Andrés de Poza</th>\n",
       "      <td>2</td>\n",
       "    </tr>\n",
       "    <tr>\n",
       "      <th>I EDICIÓN DE LOS PREMIOS HDH 2018</th>\n",
       "      <td>1</td>\n",
       "    </tr>\n",
       "    <tr>\n",
       "      <th>Proyecto ReMetCa</th>\n",
       "      <td>1</td>\n",
       "    </tr>\n",
       "    <tr>\n",
       "      <th>Diarium (USAL)</th>\n",
       "      <td>1</td>\n",
       "    </tr>\n",
       "    <tr>\n",
       "      <th>CORDIS (EU research results)</th>\n",
       "      <td>1</td>\n",
       "    </tr>\n",
       "    <tr>\n",
       "      <th>Seminario Historia y Humanidades Digitales UCLM 2017</th>\n",
       "      <td>1</td>\n",
       "    </tr>\n",
       "    <tr>\n",
       "      <th>-</th>\n",
       "      <td>1</td>\n",
       "    </tr>\n",
       "  </tbody>\n",
       "</table>\n",
       "</div>"
      ],
      "text/plain": [
       "                                                      0\n",
       "Agencia Estatal de Investigación                    218\n",
       "Fundación BBVA                                       22\n",
       "Congresos Humanidades Digitales Hispánicas           17\n",
       "Red Knowmetrics                                      14\n",
       "Jornada: Proyectos de humanidades digitales en ...   14\n",
       "Proyectos subvencionados RecerCaixa                  11\n",
       "CONGRESO INTERNACIONAL HUMANIDADES DIGITALES: V...   10\n",
       "ARACNE                                                9\n",
       "Fuente propia                                         6\n",
       "GrinUGR                                               6\n",
       "BIDISO                                                6\n",
       "Bibliografía                                          6\n",
       "Google                                                5\n",
       "Biblioteca Virtual Miguel de Cervantes                5\n",
       "I Jornada científico-técnica en Humanidades Dig...    5\n",
       "Congreso Territorio digitales                         5\n",
       "Proyectos MediaLab UGR                                5\n",
       "Web personal                                          3\n",
       "Proyecto Andrés de Poza                               2\n",
       "I EDICIÓN DE LOS PREMIOS HDH 2018                     1\n",
       "Proyecto ReMetCa                                      1\n",
       "Diarium (USAL)                                        1\n",
       "CORDIS (EU research results)                          1\n",
       "Seminario Historia y Humanidades Digitales UCLM...    1\n",
       "-                                                     1"
      ]
     },
     "execution_count": 67,
     "metadata": {},
     "output_type": "execute_result"
    }
   ],
   "source": [
    "sources_table = pd.DataFrame.from_dict(sources_dict, orient='index')\n",
    "sources_table"
   ]
  },
  {
   "cell_type": "code",
   "execution_count": null,
   "metadata": {},
   "outputs": [],
   "source": []
  }
 ],
 "metadata": {
  "kernelspec": {
   "display_name": "Python 3",
   "language": "python",
   "name": "python3"
  },
  "language_info": {
   "codemirror_mode": {
    "name": "ipython",
    "version": 3
   },
   "file_extension": ".py",
   "mimetype": "text/x-python",
   "name": "python",
   "nbconvert_exporter": "python",
   "pygments_lexer": "ipython3",
   "version": "3.7.3"
  }
 },
 "nbformat": 4,
 "nbformat_minor": 2
}
