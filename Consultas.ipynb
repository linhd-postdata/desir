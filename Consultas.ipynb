{
 "cells": [
  {
   "cell_type": "code",
   "execution_count": 1,
   "metadata": {},
   "outputs": [],
   "source": [
    "import matplotlib.pyplot as plt\n",
    "import numpy as np\n",
    "import pandas as pd"
   ]
  },
  {
   "cell_type": "code",
   "execution_count": 3,
   "metadata": {},
   "outputs": [
    {
     "ename": "NameError",
     "evalue": "name 'df' is not defined",
     "output_type": "error",
     "traceback": [
      "\u001b[0;31m---------------------------------------------------------------------------\u001b[0m",
      "\u001b[0;31mNameError\u001b[0m                                 Traceback (most recent call last)",
      "\u001b[0;32m<ipython-input-3-37ba827d0aa1>\u001b[0m in \u001b[0;36m<module>\u001b[0;34m\u001b[0m\n\u001b[1;32m     19\u001b[0m \u001b[0;34m\u001b[0m\u001b[0m\n\u001b[1;32m     20\u001b[0m \u001b[0;31m# Cuenta por palabra clave\u001b[0m\u001b[0;34m\u001b[0m\u001b[0;34m\u001b[0m\u001b[0;34m\u001b[0m\u001b[0m\n\u001b[0;32m---> 21\u001b[0;31m \u001b[0mgrouped\u001b[0m \u001b[0;34m=\u001b[0m \u001b[0mdf\u001b[0m\u001b[0;34m.\u001b[0m\u001b[0mgroupby\u001b[0m\u001b[0;34m(\u001b[0m\u001b[0;34m[\u001b[0m\u001b[0;34m'PALABRA CLAVE'\u001b[0m\u001b[0;34m]\u001b[0m\u001b[0;34m)\u001b[0m\u001b[0;34m\u001b[0m\u001b[0;34m\u001b[0m\u001b[0m\n\u001b[0m\u001b[1;32m     22\u001b[0m \u001b[0mprint\u001b[0m\u001b[0;34m(\u001b[0m\u001b[0mgrouped\u001b[0m\u001b[0;34m.\u001b[0m\u001b[0mREFERENCIA\u001b[0m\u001b[0;34m.\u001b[0m\u001b[0mnunique\u001b[0m\u001b[0;34m(\u001b[0m\u001b[0;34m)\u001b[0m\u001b[0;34m.\u001b[0m\u001b[0msort_values\u001b[0m\u001b[0;34m(\u001b[0m\u001b[0mascending\u001b[0m\u001b[0;34m=\u001b[0m\u001b[0;32mFalse\u001b[0m\u001b[0;34m)\u001b[0m\u001b[0;34m)\u001b[0m\u001b[0;34m\u001b[0m\u001b[0;34m\u001b[0m\u001b[0m\n",
      "\u001b[0;31mNameError\u001b[0m: name 'df' is not defined"
     ]
    }
   ],
   "source": [
    "# Total por organismo\n",
    "#grouped = df.groupby('Organismo')\n",
    "#print(grouped['TOTAL'].sum().sort_values(ascending=False).reset_index())\n",
    "\n",
    "# Total por comunidad autónoma\n",
    "#grouped = df.groupby('CCAA ')\n",
    "#print(grouped.REFERENCIA.nunique().sort_values(ascending=False))\n",
    "\n",
    "# Total por género\n",
    "#grouped = df.groupby('GENERO')\n",
    "#print(grouped.REFERENCIA.nunique().sort_values(ascending=False))\n",
    "\n",
    "# Total por programa y subprograma\n",
    "#grouped = df.groupby(['PR.'])\n",
    "#print(grouped.REFERENCIA.nunique().sort_values(ascending=False))\n",
    "\n",
    "# Dataframe ordenado por coste total\n",
    "#print(df[['CONV.','REFERENCIA','Organismo', 'TOTAL', 'TITULO']].sort_values(by=['TOTAL'], ascending=False))\n",
    "\n",
    "# Cuenta por palabra clave\n",
    "grouped = df.groupby(['PALABRA CLAVE'])\n",
    "print(grouped.REFERENCIA.nunique().sort_values(ascending=False))"
   ]
  },
  {
   "cell_type": "code",
   "execution_count": 4,
   "metadata": {},
   "outputs": [],
   "source": []
  },
  {
   "cell_type": "code",
   "execution_count": 2,
   "metadata": {},
   "outputs": [],
   "source": [
    "def read_csv(path):\n",
    "    \"\"\"\n",
    "    :param path: of desir the xlsx file\n",
    "    :return: String that contains all project descriptions\n",
    "    \"\"\"\n",
    "    df = pd.read_csv(path)\n",
    "    filtered_df = df.replace(np.nan, '-', regex=True)\n",
    "    \n",
    "    \n",
    "    return filtered_df"
   ]
  },
  {
   "cell_type": "code",
   "execution_count": 3,
   "metadata": {},
   "outputs": [],
   "source": [
    "proyectos = read_csv(\"data/mapeo_proyectos.csv\")\n",
    "investigadores = read_csv(\"data/mapeo_investigadores.csv\")\n",
    "recursos = read_csv(\"data/mapeo_recursos.csv\")"
   ]
  },
  {
   "cell_type": "code",
   "execution_count": 4,
   "metadata": {},
   "outputs": [],
   "source": [
    "# pd.to_numeric(df.Financiación)"
   ]
  },
  {
   "cell_type": "code",
   "execution_count": 5,
   "metadata": {},
   "outputs": [
    {
     "name": "stdout",
     "output_type": "stream",
     "text": [
      "                                 Entidad financiadora  \\\n",
      "0                                            La Caixa   \n",
      "1   La Caixa, Asociación Catalana de Universidades...   \n",
      "2                                      Fundación BBVA   \n",
      "3          Gobierno de Canarias, Unión europea (RIS3)   \n",
      "4   Comisión Interministerial de Ciencia y Tecnología   \n",
      "5                                               FECYT   \n",
      "6                                    Xunta de Galicia   \n",
      "7                              Generalitat Valenciana   \n",
      "8   Dirección General de Investigación Científica ...   \n",
      "9                               Ministerio de Ciencia   \n",
      "10                                       MediaLab UGR   \n",
      "11                             Real Academia Española   \n",
      "12  Comisión Interministerial de Ciencia y Tecnolo...   \n",
      "13                                 Junta de Andalucía   \n",
      "14                           DIRECCIÓN XERAL DE I+D+I   \n",
      "15  Comisión Interministerial de Ciencia y Tecnolo...   \n",
      "16  Fondo Europeo de Desarrollo Regional (FEDER), ...   \n",
      "17  Consejo Superior de Investigaciones Científica...   \n",
      "18  Ministerio de Ciencia, Fondo Europeo de Desarr...   \n",
      "19                                                  -   \n",
      "20                               Universidad de Cádiz   \n",
      "21                                   Comisión Europea   \n",
      "22          Comunidad de Madrid, Fondo Social Europeo   \n",
      "23  Comunidad de Madrid, Universidad Rey Juan Carl...   \n",
      "24  Dirección General de Investigación Científica ...   \n",
      "25  Departamento de Educación Universidades e Inve...   \n",
      "26                                Universidad de León   \n",
      "27                           Generalitat de Catalunya   \n",
      "28    Plan de Promoción a la Investigación de la UNED   \n",
      "29  Ayuntamiento de Villanueva de los Infantes, Ju...   \n",
      "\n",
      "                                         Financiación  \n",
      "0   96.930,00€85.830,03€78.391,06€78.391,06€87.504...  \n",
      "1                                          86.283,02€  \n",
      "2   75.000,00€75.000,00€60.000,00€75.000,00€75.000...  \n",
      "3                                          65.717,66€  \n",
      "4   55.894,00€71.000,00€71.000,00€35.000,00€42.350...  \n",
      "5                                 5.500,00€12.000,00€  \n",
      "6            43.513,30€43.513,30€40.238,00€16.828,00€  \n",
      "7                                          35.500,00€  \n",
      "8                                          30.250,00€  \n",
      "9   30.050,00€68.000,00€68.000,00€60.500,00€21.780...  \n",
      "10  3.000,00€3.000,00€3.000,00€3.000,00€3.000,00€3...  \n",
      "11                               21.600,00€21.600,00€  \n",
      "12                               15.000,00€15.000,00€  \n",
      "13       134.000,00€134.000,00€134.000,00€134.000,00€  \n",
      "14                                         13.800,00€  \n",
      "15                             127.050,00€127.050,00€  \n",
      "16                                         12.705,00€  \n",
      "17                                        12.439,00€-  \n",
      "18  108.900,00€108.900,00€108.900,00€65.219,00€65....  \n",
      "19  107.448,00€52.900,00€7.260,00€13.800,00€32.670...  \n",
      "20                                          1.200,00€  \n",
      "21  1.131.413,00€1.131.413,00€1.131.413,00€1.131.4...  \n",
      "22                            ------------182.677,50€  \n",
      "23                                               ----  \n",
      "24                                                 --  \n",
      "25                                                 --  \n",
      "26                                                  -  \n",
      "27                                                  -  \n",
      "28                                                  -  \n",
      "29                                                  -  \n"
     ]
    }
   ],
   "source": [
    "# Total por organismo\n",
    "grouped = proyectos.groupby('Entidad financiadora')\n",
    "print(grouped['Financiación'].sum().sort_values(ascending=False).reset_index())"
   ]
  },
  {
   "cell_type": "code",
   "execution_count": 7,
   "metadata": {},
   "outputs": [],
   "source": [
    "df = pd.read_excel(\"data/HUMANIDADES DIGITALES_APROBADO_REVISADO_MT.xlsx\", 0)"
   ]
  },
  {
   "cell_type": "code",
   "execution_count": 8,
   "metadata": {},
   "outputs": [
    {
     "name": "stdout",
     "output_type": "stream",
     "text": [
      "                                            Organismo      TOTAL\n",
      "0                            UNIVERSIDAD DE BARCELONA  869530.00\n",
      "1   AGENCIA ESTATAL CONSEJO SUPERIOR DE INVESTIGAC...  856400.00\n",
      "2              UNIVERSIDADE DE SANTIAGO DE COMPOSTELA  649371.09\n",
      "3                     CENTRO DE VISION POR COMPUTADOR  639844.00\n",
      "4                   UNIVERSIDAD COMPLUTENSE DE MADRID  590418.00\n",
      "5                            UNIVERSIDAD DE SALAMANCA  498276.00\n",
      "6                              UNIVERSIDAD DE GRANADA  470130.00\n",
      "7                              UNIVERSIDAD DE SEVILLA  455270.00\n",
      "8                              UNIVERSIDADE DA CORUÑA  440752.00\n",
      "9       UNIVERSIDAD NACIONAL DE EDUCACION A DISTANCIA  429607.00\n",
      "10                            UNIVERSIDAD DE VALENCIA  397028.00\n",
      "11                  UNIVERSIDAD AUTONOMA DE BARCELONA  386595.00\n",
      "12                             UNIVERSIDAD DE CORDOBA  360720.00\n",
      "13                  UNIVERSIDAD POLITECNICA DE MADRID  319861.00\n",
      "14                                UNIVERSIDAD DE JAEN  318718.00\n",
      "15                UNIVERSITAT POLITÈCNICA DE VALÈNCIA  317408.00\n",
      "16                            UNIVERSIDAD DE ALICANTE  274920.00\n",
      "17                       UNIVERSITAT POMPEU FABRA CCT  269830.00\n",
      "18                           UNIVERSIDAD DE CANTABRIA  256520.00\n",
      "19               INSTITUTO TECNOLOGICO DE INFORMATICA  242000.00\n",
      "20                          UNIVERSIDAD DE VALLADOLID  238094.00\n",
      "21                              UNIVERSIDAD DE OVIEDO  213850.00\n",
      "22                              UNIVERSIDAD DE MURCIA  213700.00\n",
      "23                              UNIVERSIDAD DE MALAGA  192030.00\n",
      "24                              UNIVERSIDAD DE ALCALA  178475.00\n",
      "25          UNIVERSIDAD DE LAS PALMAS DE GRAN CANARIA  174732.00\n",
      "26                            UNIVERSIDAD DE ZARAGOZA  168640.00\n",
      "27               UNIVERSITAT POLITECNICA DE CATALUNYA  152341.00\n",
      "28                            UNIVERSIDAD DE LA RIOJA  127050.00\n",
      "29  FUNDACIO PER A LA UNIVERSITAT OBERTA DE CATALUNYA  116268.00\n",
      "30        FUNDACION CONJUNTO PALEONTOLOGICO DE TERUEL  111658.80\n",
      "31                                UNIVERSIDAD DE VIGO  110594.00\n",
      "32                    UNIVERSITAT JAUME I DE CASTELLO  106480.00\n",
      "33  UNIVERSIDAD DEL PAIS VASCO EUSKAL HERRIKO UNIB...  104423.00\n",
      "34                     UNIVERSIDAD AUTONOMA DE MADRID  101035.00\n",
      "35                  UNIVERSIDAD DE LAS ISLAS BALEARES   96511.00\n",
      "36                              UNIVERSIDAD DE LLEIDA   91350.00\n",
      "37              FUNDACION UNIVERSITARIA SAN PABLO CEU   87120.00\n",
      "38             INSTITUT CATALA D ARQUEOLOGIA CLASSICA   74294.00\n",
      "39                              UNIVERSITAT DE GIRONA   70890.00\n",
      "40                               UNIVERSIDAD DE CADIZ   64450.00\n",
      "41           UNIVERSIDAD PABLO DE OLAVIDE, DE SEVILLA   63888.00\n",
      "42                  UNIVERSIDAD DE CASTILLA-LA MANCHA   62350.00\n",
      "43                              UNIVERSIDAD DE BURGOS   57670.00\n",
      "44                              UNIVERSIDAD DE HUELVA   42350.00\n",
      "45                             UNIVERSIDAD DE NAVARRA   36300.00\n",
      "46                   UNIVERSIDAD CARLOS III DE MADRID   30250.00\n",
      "47                                INSTITUTO CERVANTES   21420.00\n",
      "48                        UNIVERSIDAD REY JUAN CARLOS   10000.00\n",
      "49  ASOCIACION INDUSTRIAL DE OPTICA, COLOR E IMAGE...    3000.00\n"
     ]
    }
   ],
   "source": [
    "grouped = df.groupby('Organismo')\n",
    "print(grouped['TOTAL'].sum().sort_values(ascending=False).reset_index())"
   ]
  },
  {
   "cell_type": "code",
   "execution_count": 9,
   "metadata": {},
   "outputs": [
    {
     "name": "stdout",
     "output_type": "stream",
     "text": [
      "                  CCAA  total\n",
      "0             CATALUÑA     61\n",
      "1               MADRID     55\n",
      "2            ANDALUCIA     37\n",
      "3              GALICIA     23\n",
      "4         C.VALENCIANA     21\n",
      "5      CASTILLA Y LEON     15\n",
      "6               ARAGON      6\n",
      "7               MURCIA      4\n",
      "8            CANTABRIA      4\n",
      "9             CANARIAS      4\n",
      "10        PDO.ASTURIAS      4\n",
      "11            LA RIOJA      3\n",
      "12  CASTILLA-LA MANCHA      3\n",
      "13            BALEARES      2\n",
      "14             NAVARRA      1\n",
      "15         EXTREMADURA      1\n",
      "16          PAIS VASCO      1\n"
     ]
    }
   ],
   "source": [
    "# Total por comunidad autónoma\n",
    "ccaa = df.groupby('CCAA ')\n",
    "result = ccaa.REFERENCIA.nunique().sort_values(ascending=False).reset_index()\n",
    "result.columns = [\"CCAA\", \"total\"]\n",
    "print(result)\n"
   ]
  },
  {
   "cell_type": "code",
   "execution_count": 10,
   "metadata": {},
   "outputs": [
    {
     "name": "stdout",
     "output_type": "stream",
     "text": [
      "      género  total\n",
      "0  Masculino    144\n",
      "1   Femenino    101\n"
     ]
    }
   ],
   "source": [
    "# Total por género\n",
    "grouped = df.groupby('GENERO')\n",
    "result = grouped.REFERENCIA.nunique().sort_values(ascending=False).to_frame().reset_index()\n",
    "result.columns = [\"género\", \"total\"]\n",
    "print(result)"
   ]
  },
  {
   "cell_type": "code",
   "execution_count": 11,
   "metadata": {},
   "outputs": [
    {
     "name": "stdout",
     "output_type": "stream",
     "text": [
      "PR.\n",
      "FFI     76\n",
      "HAR     61\n",
      "TIN     35\n",
      "HUM     19\n",
      "TIC     10\n",
      "FLA     10\n",
      "PHA      7\n",
      "CSO      5\n",
      "TSI      4\n",
      "BHA      4\n",
      "SEJ      4\n",
      "FEM      2\n",
      "EDU      2\n",
      "CGL      2\n",
      "MLP      1\n",
      "TEC      1\n",
      "BIA      1\n",
      "FLA      1\n",
      "Name: REFERENCIA, dtype: int64\n"
     ]
    }
   ],
   "source": [
    "# Total por programa y subprograma\n",
    "grouped = df.groupby(['PR.'])\n",
    "print(grouped.REFERENCIA.nunique().sort_values(ascending=False))"
   ]
  },
  {
   "cell_type": "code",
   "execution_count": 12,
   "metadata": {},
   "outputs": [
    {
     "name": "stdout",
     "output_type": "stream",
     "text": [
      "PALABRA CLAVE\n",
      "HUMANIDADES DIGITALES        61\n",
      "SIG                          44\n",
      "BIBLIOTECAS DIGITALES        32\n",
      "XML                          29\n",
      "TIC                          24\n",
      "LINGÜÍSTICA COMPUTACIONAL    22\n",
      "WEB SEMANTICA                15\n",
      "ONTOLOGIAS Y ONTOLOGI%        8\n",
      "TEI                           5\n",
      "SPARQL                        2\n",
      "DIGITAL HUMANITIES            2\n",
      "PATRIMONIO DIGITAL            1\n",
      "HISTORIA DIGITAL              1\n",
      "Name: REFERENCIA, dtype: int64\n"
     ]
    }
   ],
   "source": [
    "# Cuenta por palabra clave\n",
    "grouped = df.groupby(['PALABRA CLAVE'])\n",
    "print(grouped.REFERENCIA.nunique().sort_values(ascending=False))"
   ]
  },
  {
   "cell_type": "code",
   "execution_count": 13,
   "metadata": {},
   "outputs": [
    {
     "name": "stdout",
     "output_type": "stream",
     "text": [
      "      género  total\n",
      "0   Femenino     33\n",
      "1  Masculino     28\n"
     ]
    }
   ],
   "source": [
    "# por género en hd\n",
    "filter1 = df[\"PALABRA CLAVE\"]==\"HUMANIDADES DIGITALES\"\n",
    "data = df\n",
    "data.where(filter1, inplace=True)\n",
    "grouped = data.groupby('GENERO')\n",
    "result = grouped.REFERENCIA.nunique().sort_values(ascending=False).to_frame().reset_index()\n",
    "result.columns = [\"género\", \"total\"]\n",
    "print(result)\n",
    "result.to_csv(r'data/genero_hd',index=False)\n"
   ]
  },
  {
   "cell_type": "code",
   "execution_count": 14,
   "metadata": {},
   "outputs": [],
   "source": [
    "# Cómo ha evolucionado la financiación en el tiempo: ¿hay ahora más recursos económicos que hace 10 años?\n",
    "proyectos = pd.read_csv(\"data/mapeo_proyectos2.csv\")\n",
    "\n",
    "proyectos.columns = ['ID', 'titulo', 'codigo', 'desc', 'temas', 'inicio', 'fin', 'hd', 'convocatoria', \n",
    "                     'financiacion', 'entidad', 'web', 'investigadores', 'ID_inv', 'fuente',\n",
    "                     'estado', 'fecha_pub', 'ultima_act']\n",
    "proyectos[\"inicio\"] = pd.to_numeric(proyectos[\"inicio\"], errors='coerce')\n",
    "proyectos[\"fin\"] = pd.to_numeric(proyectos[\"fin\"], errors='ignore')\n",
    "proyectos[\"financiacion\"] = pd.to_numeric(proyectos[\"financiacion\"], errors='coerce')"
   ]
  },
  {
   "cell_type": "code",
   "execution_count": 15,
   "metadata": {},
   "outputs": [
    {
     "data": {
      "image/png": "[encoded data removed]",
      "text/plain": [
       "<Figure size 432x288 with 1 Axes>"
      ]
     },
     "metadata": {
      "needs_background": "light"
     },
     "output_type": "display_data"
    }
   ],
   "source": [
    "# Cómo ha evolucionado la financiación en el tiempo: ¿hay ahora más recursos económicos que hace 10 años?\n",
    "grouped = proyectos.groupby(\"inicio\")\n",
    "df2 = grouped.financiacion.sum().reset_index()\n",
    "df2.plot(kind='bar',x='inicio',y='financiacion',color='red')\n",
    "plt.ylabel('financiacion (€)')\n",
    "plt.show()"
   ]
  },
  {
   "cell_type": "code",
   "execution_count": 17,
   "metadata": {},
   "outputs": [
    {
     "ename": "ValueError",
     "evalue": "Length mismatch: Expected axis has 21 elements, new values have 19 elements",
     "output_type": "error",
     "traceback": [
      "\u001b[0;31m---------------------------------------------------------------------------\u001b[0m",
      "\u001b[0;31mValueError\u001b[0m                                Traceback (most recent call last)",
      "\u001b[0;32m<ipython-input-17-5309640c75da>\u001b[0m in \u001b[0;36m<module>\u001b[0;34m\u001b[0m\n\u001b[1;32m      2\u001b[0m investigadores.columns = ['ID', 'Nombre', 'Descripción', 'Universidad', 'Dep', 'Grupo_Inv', 'Latitude', 'Longitude', \n\u001b[1;32m      3\u001b[0m                           \u001b[0;34m'Temas'\u001b[0m\u001b[0;34m,\u001b[0m \u001b[0;34m'Dialnet'\u001b[0m\u001b[0;34m,\u001b[0m \u001b[0;34m'Facebook'\u001b[0m\u001b[0;34m,\u001b[0m \u001b[0;34m'GoogleScholar'\u001b[0m\u001b[0;34m,\u001b[0m \u001b[0;34m'ResearchGate'\u001b[0m\u001b[0;34m,\u001b[0m \u001b[0;34m'Twitter'\u001b[0m\u001b[0;34m,\u001b[0m \u001b[0;34m'Web'\u001b[0m\u001b[0;34m,\u001b[0m \u001b[0;34m'Fuente'\u001b[0m\u001b[0;34m,\u001b[0m\u001b[0;34m\u001b[0m\u001b[0;34m\u001b[0m\u001b[0m\n\u001b[0;32m----> 4\u001b[0;31m                           'Fecha_pub', 'ult_act', 'Estado']\n\u001b[0m\u001b[1;32m      5\u001b[0m \u001b[0minvestigadores\u001b[0m\u001b[0;34m.\u001b[0m\u001b[0mTemas\u001b[0m\u001b[0;34m.\u001b[0m\u001b[0mnunique\u001b[0m\u001b[0;34m(\u001b[0m\u001b[0;34m)\u001b[0m\u001b[0;34m\u001b[0m\u001b[0;34m\u001b[0m\u001b[0m\n",
      "\u001b[0;32m~/projects/desir/venv/lib/python3.7/site-packages/pandas/core/generic.py\u001b[0m in \u001b[0;36m__setattr__\u001b[0;34m(self, name, value)\u001b[0m\n\u001b[1;32m   5190\u001b[0m         \u001b[0;32mtry\u001b[0m\u001b[0;34m:\u001b[0m\u001b[0;34m\u001b[0m\u001b[0;34m\u001b[0m\u001b[0m\n\u001b[1;32m   5191\u001b[0m             \u001b[0mobject\u001b[0m\u001b[0;34m.\u001b[0m\u001b[0m__getattribute__\u001b[0m\u001b[0;34m(\u001b[0m\u001b[0mself\u001b[0m\u001b[0;34m,\u001b[0m \u001b[0mname\u001b[0m\u001b[0;34m)\u001b[0m\u001b[0;34m\u001b[0m\u001b[0;34m\u001b[0m\u001b[0m\n\u001b[0;32m-> 5192\u001b[0;31m             \u001b[0;32mreturn\u001b[0m \u001b[0mobject\u001b[0m\u001b[0;34m.\u001b[0m\u001b[0m__setattr__\u001b[0m\u001b[0;34m(\u001b[0m\u001b[0mself\u001b[0m\u001b[0;34m,\u001b[0m \u001b[0mname\u001b[0m\u001b[0;34m,\u001b[0m \u001b[0mvalue\u001b[0m\u001b[0;34m)\u001b[0m\u001b[0;34m\u001b[0m\u001b[0;34m\u001b[0m\u001b[0m\n\u001b[0m\u001b[1;32m   5193\u001b[0m         \u001b[0;32mexcept\u001b[0m \u001b[0mAttributeError\u001b[0m\u001b[0;34m:\u001b[0m\u001b[0;34m\u001b[0m\u001b[0;34m\u001b[0m\u001b[0m\n\u001b[1;32m   5194\u001b[0m             \u001b[0;32mpass\u001b[0m\u001b[0;34m\u001b[0m\u001b[0;34m\u001b[0m\u001b[0m\n",
      "\u001b[0;32mpandas/_libs/properties.pyx\u001b[0m in \u001b[0;36mpandas._libs.properties.AxisProperty.__set__\u001b[0;34m()\u001b[0m\n",
      "\u001b[0;32m~/projects/desir/venv/lib/python3.7/site-packages/pandas/core/generic.py\u001b[0m in \u001b[0;36m_set_axis\u001b[0;34m(self, axis, labels)\u001b[0m\n\u001b[1;32m    688\u001b[0m \u001b[0;34m\u001b[0m\u001b[0m\n\u001b[1;32m    689\u001b[0m     \u001b[0;32mdef\u001b[0m \u001b[0m_set_axis\u001b[0m\u001b[0;34m(\u001b[0m\u001b[0mself\u001b[0m\u001b[0;34m,\u001b[0m \u001b[0maxis\u001b[0m\u001b[0;34m,\u001b[0m \u001b[0mlabels\u001b[0m\u001b[0;34m)\u001b[0m\u001b[0;34m:\u001b[0m\u001b[0;34m\u001b[0m\u001b[0;34m\u001b[0m\u001b[0m\n\u001b[0;32m--> 690\u001b[0;31m         \u001b[0mself\u001b[0m\u001b[0;34m.\u001b[0m\u001b[0m_data\u001b[0m\u001b[0;34m.\u001b[0m\u001b[0mset_axis\u001b[0m\u001b[0;34m(\u001b[0m\u001b[0maxis\u001b[0m\u001b[0;34m,\u001b[0m \u001b[0mlabels\u001b[0m\u001b[0;34m)\u001b[0m\u001b[0;34m\u001b[0m\u001b[0;34m\u001b[0m\u001b[0m\n\u001b[0m\u001b[1;32m    691\u001b[0m         \u001b[0mself\u001b[0m\u001b[0;34m.\u001b[0m\u001b[0m_clear_item_cache\u001b[0m\u001b[0;34m(\u001b[0m\u001b[0;34m)\u001b[0m\u001b[0;34m\u001b[0m\u001b[0;34m\u001b[0m\u001b[0m\n\u001b[1;32m    692\u001b[0m \u001b[0;34m\u001b[0m\u001b[0m\n",
      "\u001b[0;32m~/projects/desir/venv/lib/python3.7/site-packages/pandas/core/internals/managers.py\u001b[0m in \u001b[0;36mset_axis\u001b[0;34m(self, axis, new_labels)\u001b[0m\n\u001b[1;32m    181\u001b[0m             raise ValueError(\n\u001b[1;32m    182\u001b[0m                 \u001b[0;34m\"Length mismatch: Expected axis has {old} elements, new \"\u001b[0m\u001b[0;34m\u001b[0m\u001b[0;34m\u001b[0m\u001b[0m\n\u001b[0;32m--> 183\u001b[0;31m                 \u001b[0;34m\"values have {new} elements\"\u001b[0m\u001b[0;34m.\u001b[0m\u001b[0mformat\u001b[0m\u001b[0;34m(\u001b[0m\u001b[0mold\u001b[0m\u001b[0;34m=\u001b[0m\u001b[0mold_len\u001b[0m\u001b[0;34m,\u001b[0m \u001b[0mnew\u001b[0m\u001b[0;34m=\u001b[0m\u001b[0mnew_len\u001b[0m\u001b[0;34m)\u001b[0m\u001b[0;34m\u001b[0m\u001b[0;34m\u001b[0m\u001b[0m\n\u001b[0m\u001b[1;32m    184\u001b[0m             )\n\u001b[1;32m    185\u001b[0m \u001b[0;34m\u001b[0m\u001b[0m\n",
      "\u001b[0;31mValueError\u001b[0m: Length mismatch: Expected axis has 21 elements, new values have 19 elements"
     ]
    }
   ],
   "source": [
    "# % de investigadores en HD sobre el total de investigadores en España\n",
    "investigadores.columns = ['ID', 'Nombre', 'Descripción', 'Universidad', 'Dep', 'Grupo_Inv', 'Latitude', 'Longitude', \n",
    "                          'Temas', 'Dialnet', 'Facebook', 'GoogleScholar', 'ResearchGate', 'Twitter', 'Web', 'Fuente', \n",
    "                          'Fecha_pub', 'ult_act', 'Estado']\n",
    "investigadores.Temas.nunique()\n"
   ]
  },
  {
   "cell_type": "code",
   "execution_count": 19,
   "metadata": {},
   "outputs": [],
   "source": [
    "# Financiación media de los proyectos en HD y por área de conocimiento \n"
   ]
  },
  {
   "cell_type": "code",
   "execution_count": 18,
   "metadata": {},
   "outputs": [
    {
     "data": {
      "text/html": [
       "<div>\n",
       "<style scoped>\n",
       "    .dataframe tbody tr th:only-of-type {\n",
       "        vertical-align: middle;\n",
       "    }\n",
       "\n",
       "    .dataframe tbody tr th {\n",
       "        vertical-align: top;\n",
       "    }\n",
       "\n",
       "    .dataframe thead th {\n",
       "        text-align: right;\n",
       "    }\n",
       "</style>\n",
       "<table border=\"1\" class=\"dataframe\">\n",
       "  <thead>\n",
       "    <tr style=\"text-align: right;\">\n",
       "      <th></th>\n",
       "      <th>inicio</th>\n",
       "      <th>financiacion</th>\n",
       "    </tr>\n",
       "  </thead>\n",
       "  <tbody>\n",
       "    <tr>\n",
       "      <th>0</th>\n",
       "      <td>1993.0</td>\n",
       "      <td>16828.0</td>\n",
       "    </tr>\n",
       "    <tr>\n",
       "      <th>1</th>\n",
       "      <td>1995.0</td>\n",
       "      <td>12439.0</td>\n",
       "    </tr>\n",
       "    <tr>\n",
       "      <th>2</th>\n",
       "      <td>1996.0</td>\n",
       "      <td>172191.0</td>\n",
       "    </tr>\n",
       "    <tr>\n",
       "      <th>3</th>\n",
       "      <td>1998.0</td>\n",
       "      <td>40238.0</td>\n",
       "    </tr>\n",
       "    <tr>\n",
       "      <th>4</th>\n",
       "      <td>1999.0</td>\n",
       "      <td>55894.0</td>\n",
       "    </tr>\n",
       "    <tr>\n",
       "      <th>5</th>\n",
       "      <td>2000.0</td>\n",
       "      <td>30050.0</td>\n",
       "    </tr>\n",
       "    <tr>\n",
       "      <th>6</th>\n",
       "      <td>2003.0</td>\n",
       "      <td>85880.0</td>\n",
       "    </tr>\n",
       "    <tr>\n",
       "      <th>7</th>\n",
       "      <td>2004.0</td>\n",
       "      <td>0.0</td>\n",
       "    </tr>\n",
       "    <tr>\n",
       "      <th>8</th>\n",
       "      <td>2005.0</td>\n",
       "      <td>53550.0</td>\n",
       "    </tr>\n",
       "    <tr>\n",
       "      <th>9</th>\n",
       "      <td>2006.0</td>\n",
       "      <td>274670.0</td>\n",
       "    </tr>\n",
       "    <tr>\n",
       "      <th>10</th>\n",
       "      <td>2007.0</td>\n",
       "      <td>70340.0</td>\n",
       "    </tr>\n",
       "    <tr>\n",
       "      <th>11</th>\n",
       "      <td>2008.0</td>\n",
       "      <td>193600.0</td>\n",
       "    </tr>\n",
       "    <tr>\n",
       "      <th>12</th>\n",
       "      <td>2009.0</td>\n",
       "      <td>192780.0</td>\n",
       "    </tr>\n",
       "    <tr>\n",
       "      <th>13</th>\n",
       "      <td>2010.0</td>\n",
       "      <td>3003350.0</td>\n",
       "    </tr>\n",
       "    <tr>\n",
       "      <th>14</th>\n",
       "      <td>2011.0</td>\n",
       "      <td>628000.0</td>\n",
       "    </tr>\n",
       "    <tr>\n",
       "      <th>15</th>\n",
       "      <td>2012.0</td>\n",
       "      <td>406704.0</td>\n",
       "    </tr>\n",
       "    <tr>\n",
       "      <th>16</th>\n",
       "      <td>2013.0</td>\n",
       "      <td>695410.0</td>\n",
       "    </tr>\n",
       "    <tr>\n",
       "      <th>17</th>\n",
       "      <td>2014.0</td>\n",
       "      <td>1145104.0</td>\n",
       "    </tr>\n",
       "    <tr>\n",
       "      <th>18</th>\n",
       "      <td>2015.0</td>\n",
       "      <td>845220.0</td>\n",
       "    </tr>\n",
       "    <tr>\n",
       "      <th>19</th>\n",
       "      <td>2016.0</td>\n",
       "      <td>9454124.0</td>\n",
       "    </tr>\n",
       "    <tr>\n",
       "      <th>20</th>\n",
       "      <td>2017.0</td>\n",
       "      <td>824380.0</td>\n",
       "    </tr>\n",
       "    <tr>\n",
       "      <th>21</th>\n",
       "      <td>2018.0</td>\n",
       "      <td>1684664.0</td>\n",
       "    </tr>\n",
       "    <tr>\n",
       "      <th>22</th>\n",
       "      <td>2019.0</td>\n",
       "      <td>685970.0</td>\n",
       "    </tr>\n",
       "  </tbody>\n",
       "</table>\n",
       "</div>"
      ],
      "text/plain": [
       "    inicio  financiacion\n",
       "0   1993.0       16828.0\n",
       "1   1995.0       12439.0\n",
       "2   1996.0      172191.0\n",
       "3   1998.0       40238.0\n",
       "4   1999.0       55894.0\n",
       "5   2000.0       30050.0\n",
       "6   2003.0       85880.0\n",
       "7   2004.0           0.0\n",
       "8   2005.0       53550.0\n",
       "9   2006.0      274670.0\n",
       "10  2007.0       70340.0\n",
       "11  2008.0      193600.0\n",
       "12  2009.0      192780.0\n",
       "13  2010.0     3003350.0\n",
       "14  2011.0      628000.0\n",
       "15  2012.0      406704.0\n",
       "16  2013.0      695410.0\n",
       "17  2014.0     1145104.0\n",
       "18  2015.0      845220.0\n",
       "19  2016.0     9454124.0\n",
       "20  2017.0      824380.0\n",
       "21  2018.0     1684664.0\n",
       "22  2019.0      685970.0"
      ]
     },
     "execution_count": 18,
     "metadata": {},
     "output_type": "execute_result"
    }
   ],
   "source": [
    "df2"
   ]
  },
  {
   "cell_type": "code",
   "execution_count": 19,
   "metadata": {},
   "outputs": [
    {
     "ename": "KeyError",
     "evalue": "'Longitude'",
     "output_type": "error",
     "traceback": [
      "\u001b[0;31m---------------------------------------------------------------------------\u001b[0m",
      "\u001b[0;31mKeyError\u001b[0m                                  Traceback (most recent call last)",
      "\u001b[0;32m~/projects/desir/venv/lib/python3.7/site-packages/pandas/core/indexes/base.py\u001b[0m in \u001b[0;36mget_loc\u001b[0;34m(self, key, method, tolerance)\u001b[0m\n\u001b[1;32m   2896\u001b[0m             \u001b[0;32mtry\u001b[0m\u001b[0;34m:\u001b[0m\u001b[0;34m\u001b[0m\u001b[0;34m\u001b[0m\u001b[0m\n\u001b[0;32m-> 2897\u001b[0;31m                 \u001b[0;32mreturn\u001b[0m \u001b[0mself\u001b[0m\u001b[0;34m.\u001b[0m\u001b[0m_engine\u001b[0m\u001b[0;34m.\u001b[0m\u001b[0mget_loc\u001b[0m\u001b[0;34m(\u001b[0m\u001b[0mkey\u001b[0m\u001b[0;34m)\u001b[0m\u001b[0;34m\u001b[0m\u001b[0;34m\u001b[0m\u001b[0m\n\u001b[0m\u001b[1;32m   2898\u001b[0m             \u001b[0;32mexcept\u001b[0m \u001b[0mKeyError\u001b[0m\u001b[0;34m:\u001b[0m\u001b[0;34m\u001b[0m\u001b[0;34m\u001b[0m\u001b[0m\n",
      "\u001b[0;32mpandas/_libs/index.pyx\u001b[0m in \u001b[0;36mpandas._libs.index.IndexEngine.get_loc\u001b[0;34m()\u001b[0m\n",
      "\u001b[0;32mpandas/_libs/index.pyx\u001b[0m in \u001b[0;36mpandas._libs.index.IndexEngine.get_loc\u001b[0;34m()\u001b[0m\n",
      "\u001b[0;32mpandas/_libs/hashtable_class_helper.pxi\u001b[0m in \u001b[0;36mpandas._libs.hashtable.PyObjectHashTable.get_item\u001b[0;34m()\u001b[0m\n",
      "\u001b[0;32mpandas/_libs/hashtable_class_helper.pxi\u001b[0m in \u001b[0;36mpandas._libs.hashtable.PyObjectHashTable.get_item\u001b[0;34m()\u001b[0m\n",
      "\u001b[0;31mKeyError\u001b[0m: 'Longitude'",
      "\nDuring handling of the above exception, another exception occurred:\n",
      "\u001b[0;31mKeyError\u001b[0m                                  Traceback (most recent call last)",
      "\u001b[0;32m<ipython-input-19-079419f9e2b6>\u001b[0m in \u001b[0;36m<module>\u001b[0;34m\u001b[0m\n\u001b[1;32m      2\u001b[0m \u001b[0mcoords\u001b[0m \u001b[0;34m=\u001b[0m \u001b[0minvestigadores\u001b[0m\u001b[0;34m.\u001b[0m\u001b[0miloc\u001b[0m\u001b[0;34m[\u001b[0m\u001b[0;34m:\u001b[0m\u001b[0;34m,\u001b[0m\u001b[0;36m6\u001b[0m\u001b[0;34m:\u001b[0m\u001b[0;36m8\u001b[0m\u001b[0;34m]\u001b[0m\u001b[0;34m\u001b[0m\u001b[0;34m\u001b[0m\u001b[0m\n\u001b[1;32m      3\u001b[0m \u001b[0mcoords\u001b[0m\u001b[0;34m[\u001b[0m\u001b[0;34m\"Latitude\"\u001b[0m\u001b[0;34m]\u001b[0m \u001b[0;34m=\u001b[0m \u001b[0mpd\u001b[0m\u001b[0;34m.\u001b[0m\u001b[0mto_numeric\u001b[0m\u001b[0;34m(\u001b[0m\u001b[0mcoords\u001b[0m\u001b[0;34m[\u001b[0m\u001b[0;34m\"Latitude\"\u001b[0m\u001b[0;34m]\u001b[0m\u001b[0;34m,\u001b[0m \u001b[0merrors\u001b[0m\u001b[0;34m=\u001b[0m\u001b[0;34m'coerce'\u001b[0m\u001b[0;34m)\u001b[0m\u001b[0;34m\u001b[0m\u001b[0;34m\u001b[0m\u001b[0m\n\u001b[0;32m----> 4\u001b[0;31m \u001b[0mcoords\u001b[0m\u001b[0;34m[\u001b[0m\u001b[0;34m\"Longitude\"\u001b[0m\u001b[0;34m]\u001b[0m \u001b[0;34m=\u001b[0m \u001b[0mpd\u001b[0m\u001b[0;34m.\u001b[0m\u001b[0mto_numeric\u001b[0m\u001b[0;34m(\u001b[0m\u001b[0mcoords\u001b[0m\u001b[0;34m[\u001b[0m\u001b[0;34m\"Longitude\"\u001b[0m\u001b[0;34m]\u001b[0m\u001b[0;34m,\u001b[0m \u001b[0merrors\u001b[0m\u001b[0;34m=\u001b[0m\u001b[0;34m'coerce'\u001b[0m\u001b[0;34m)\u001b[0m\u001b[0;34m\u001b[0m\u001b[0;34m\u001b[0m\u001b[0m\n\u001b[0m",
      "\u001b[0;32m~/projects/desir/venv/lib/python3.7/site-packages/pandas/core/frame.py\u001b[0m in \u001b[0;36m__getitem__\u001b[0;34m(self, key)\u001b[0m\n\u001b[1;32m   2993\u001b[0m             \u001b[0;32mif\u001b[0m \u001b[0mself\u001b[0m\u001b[0;34m.\u001b[0m\u001b[0mcolumns\u001b[0m\u001b[0;34m.\u001b[0m\u001b[0mnlevels\u001b[0m \u001b[0;34m>\u001b[0m \u001b[0;36m1\u001b[0m\u001b[0;34m:\u001b[0m\u001b[0;34m\u001b[0m\u001b[0;34m\u001b[0m\u001b[0m\n\u001b[1;32m   2994\u001b[0m                 \u001b[0;32mreturn\u001b[0m \u001b[0mself\u001b[0m\u001b[0;34m.\u001b[0m\u001b[0m_getitem_multilevel\u001b[0m\u001b[0;34m(\u001b[0m\u001b[0mkey\u001b[0m\u001b[0;34m)\u001b[0m\u001b[0;34m\u001b[0m\u001b[0;34m\u001b[0m\u001b[0m\n\u001b[0;32m-> 2995\u001b[0;31m             \u001b[0mindexer\u001b[0m \u001b[0;34m=\u001b[0m \u001b[0mself\u001b[0m\u001b[0;34m.\u001b[0m\u001b[0mcolumns\u001b[0m\u001b[0;34m.\u001b[0m\u001b[0mget_loc\u001b[0m\u001b[0;34m(\u001b[0m\u001b[0mkey\u001b[0m\u001b[0;34m)\u001b[0m\u001b[0;34m\u001b[0m\u001b[0;34m\u001b[0m\u001b[0m\n\u001b[0m\u001b[1;32m   2996\u001b[0m             \u001b[0;32mif\u001b[0m \u001b[0mis_integer\u001b[0m\u001b[0;34m(\u001b[0m\u001b[0mindexer\u001b[0m\u001b[0;34m)\u001b[0m\u001b[0;34m:\u001b[0m\u001b[0;34m\u001b[0m\u001b[0;34m\u001b[0m\u001b[0m\n\u001b[1;32m   2997\u001b[0m                 \u001b[0mindexer\u001b[0m \u001b[0;34m=\u001b[0m \u001b[0;34m[\u001b[0m\u001b[0mindexer\u001b[0m\u001b[0;34m]\u001b[0m\u001b[0;34m\u001b[0m\u001b[0;34m\u001b[0m\u001b[0m\n",
      "\u001b[0;32m~/projects/desir/venv/lib/python3.7/site-packages/pandas/core/indexes/base.py\u001b[0m in \u001b[0;36mget_loc\u001b[0;34m(self, key, method, tolerance)\u001b[0m\n\u001b[1;32m   2897\u001b[0m                 \u001b[0;32mreturn\u001b[0m \u001b[0mself\u001b[0m\u001b[0;34m.\u001b[0m\u001b[0m_engine\u001b[0m\u001b[0;34m.\u001b[0m\u001b[0mget_loc\u001b[0m\u001b[0;34m(\u001b[0m\u001b[0mkey\u001b[0m\u001b[0;34m)\u001b[0m\u001b[0;34m\u001b[0m\u001b[0;34m\u001b[0m\u001b[0m\n\u001b[1;32m   2898\u001b[0m             \u001b[0;32mexcept\u001b[0m \u001b[0mKeyError\u001b[0m\u001b[0;34m:\u001b[0m\u001b[0;34m\u001b[0m\u001b[0;34m\u001b[0m\u001b[0m\n\u001b[0;32m-> 2899\u001b[0;31m                 \u001b[0;32mreturn\u001b[0m \u001b[0mself\u001b[0m\u001b[0;34m.\u001b[0m\u001b[0m_engine\u001b[0m\u001b[0;34m.\u001b[0m\u001b[0mget_loc\u001b[0m\u001b[0;34m(\u001b[0m\u001b[0mself\u001b[0m\u001b[0;34m.\u001b[0m\u001b[0m_maybe_cast_indexer\u001b[0m\u001b[0;34m(\u001b[0m\u001b[0mkey\u001b[0m\u001b[0;34m)\u001b[0m\u001b[0;34m)\u001b[0m\u001b[0;34m\u001b[0m\u001b[0;34m\u001b[0m\u001b[0m\n\u001b[0m\u001b[1;32m   2900\u001b[0m         \u001b[0mindexer\u001b[0m \u001b[0;34m=\u001b[0m \u001b[0mself\u001b[0m\u001b[0;34m.\u001b[0m\u001b[0mget_indexer\u001b[0m\u001b[0;34m(\u001b[0m\u001b[0;34m[\u001b[0m\u001b[0mkey\u001b[0m\u001b[0;34m]\u001b[0m\u001b[0;34m,\u001b[0m \u001b[0mmethod\u001b[0m\u001b[0;34m=\u001b[0m\u001b[0mmethod\u001b[0m\u001b[0;34m,\u001b[0m \u001b[0mtolerance\u001b[0m\u001b[0;34m=\u001b[0m\u001b[0mtolerance\u001b[0m\u001b[0;34m)\u001b[0m\u001b[0;34m\u001b[0m\u001b[0;34m\u001b[0m\u001b[0m\n\u001b[1;32m   2901\u001b[0m         \u001b[0;32mif\u001b[0m \u001b[0mindexer\u001b[0m\u001b[0;34m.\u001b[0m\u001b[0mndim\u001b[0m \u001b[0;34m>\u001b[0m \u001b[0;36m1\u001b[0m \u001b[0;32mor\u001b[0m \u001b[0mindexer\u001b[0m\u001b[0;34m.\u001b[0m\u001b[0msize\u001b[0m \u001b[0;34m>\u001b[0m \u001b[0;36m1\u001b[0m\u001b[0;34m:\u001b[0m\u001b[0;34m\u001b[0m\u001b[0;34m\u001b[0m\u001b[0m\n",
      "\u001b[0;32mpandas/_libs/index.pyx\u001b[0m in \u001b[0;36mpandas._libs.index.IndexEngine.get_loc\u001b[0;34m()\u001b[0m\n",
      "\u001b[0;32mpandas/_libs/index.pyx\u001b[0m in \u001b[0;36mpandas._libs.index.IndexEngine.get_loc\u001b[0;34m()\u001b[0m\n",
      "\u001b[0;32mpandas/_libs/hashtable_class_helper.pxi\u001b[0m in \u001b[0;36mpandas._libs.hashtable.PyObjectHashTable.get_item\u001b[0;34m()\u001b[0m\n",
      "\u001b[0;32mpandas/_libs/hashtable_class_helper.pxi\u001b[0m in \u001b[0;36mpandas._libs.hashtable.PyObjectHashTable.get_item\u001b[0;34m()\u001b[0m\n",
      "\u001b[0;31mKeyError\u001b[0m: 'Longitude'"
     ]
    }
   ],
   "source": [
    "#mapa investigadores\n",
    "coords = investigadores.iloc[:,6:8]\n",
    "coords[\"Latitude\"] = pd.to_numeric(coords[\"Latitude\"], errors='coerce')\n",
    "coords[\"Longitude\"] = pd.to_numeric(coords[\"Longitude\"], errors='coerce')\n"
   ]
  },
  {
   "cell_type": "code",
   "execution_count": 56,
   "metadata": {},
   "outputs": [
    {
     "data": {
      "text/plain": [
       "-100.9816995"
      ]
     },
     "execution_count": 56,
     "metadata": {},
     "output_type": "execute_result"
    }
   ],
   "source": [
    "coords.Longitude.min()"
   ]
  },
  {
   "cell_type": "code",
   "execution_count": 57,
   "metadata": {},
   "outputs": [
    {
     "data": {
      "text/plain": [
       "18.057830999999965"
      ]
     },
     "execution_count": 57,
     "metadata": {},
     "output_type": "execute_result"
    }
   ],
   "source": [
    "coords.Longitude.max()"
   ]
  },
  {
   "cell_type": "code",
   "execution_count": 58,
   "metadata": {},
   "outputs": [
    {
     "data": {
      "text/plain": [
       "25.4391457"
      ]
     },
     "execution_count": 58,
     "metadata": {},
     "output_type": "execute_result"
    }
   ],
   "source": [
    "coords.Latitude.min()"
   ]
  },
  {
   "cell_type": "code",
   "execution_count": 59,
   "metadata": {},
   "outputs": [
    {
     "data": {
      "text/plain": [
       "59.36217370000001"
      ]
     },
     "execution_count": 59,
     "metadata": {},
     "output_type": "execute_result"
    }
   ],
   "source": [
    "coords.Latitude.max()"
   ]
  },
  {
   "cell_type": "code",
   "execution_count": null,
   "metadata": {},
   "outputs": [],
   "source": []
  },
  {
   "cell_type": "code",
   "execution_count": 55,
   "metadata": {},
   "outputs": [
    {
     "ename": "SyntaxError",
     "evalue": "unexpected EOF while parsing (<ipython-input-55-9c0e61dd1022>, line 1)",
     "output_type": "error",
     "traceback": [
      "\u001b[0;36m  File \u001b[0;32m\"<ipython-input-55-9c0e61dd1022>\"\u001b[0;36m, line \u001b[0;32m1\u001b[0m\n\u001b[0;31m    BBox = ((coords.Longitude.min(), coords.Longitude.max(), coords.Latitude.min(), coords.Latitude.max())\u001b[0m\n\u001b[0m                                                                                                          ^\u001b[0m\n\u001b[0;31mSyntaxError\u001b[0m\u001b[0;31m:\u001b[0m unexpected EOF while parsing\n"
     ]
    }
   ],
   "source": [
    "BBox = ((coords.Longitude.min(), coords.Longitude.max(), coords.Latitude.min(), coords.Latitude.max())"
   ]
  },
  {
   "cell_type": "code",
   "execution_count": null,
   "metadata": {},
   "outputs": [],
   "source": []
  }
 ],
 "metadata": {
  "kernelspec": {
   "display_name": "Python 3",
   "language": "python",
   "name": "python3"
  },
  "language_info": {
   "codemirror_mode": {
    "name": "ipython",
    "version": 3
   },
   "file_extension": ".py",
   "mimetype": "text/x-python",
   "name": "python",
   "nbconvert_exporter": "python",
   "pygments_lexer": "ipython3",
   "version": "3.7.3"
  }
 },
 "nbformat": 4,
 "nbformat_minor": 2
}
