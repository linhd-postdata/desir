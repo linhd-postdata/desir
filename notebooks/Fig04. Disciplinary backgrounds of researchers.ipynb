{
 "cells": [
  {
   "cell_type": "markdown",
   "metadata": {},
   "source": [
    "# Fig4. Disciplinary backgrounds of researchers working in Digital Humanities "
   ]
  },
  {
   "cell_type": "markdown",
   "metadata": {},
   "source": [
    "#### Import libraries"
   ]
  },
  {
   "cell_type": "code",
   "execution_count": 1,
   "metadata": {},
   "outputs": [],
   "source": [
    "import matplotlib.pyplot as plt\n",
    "import numpy as np\n",
    "import pandas as pd\n",
    "\n",
    "plt.style.use('seaborn-muted')\n",
    "\n",
    "from collections import Counter\n",
    "\n",
    "def read_csv(path):\n",
    "    \"\"\"\n",
    "    :param path: of desir the xlsx file\n",
    "    :return: String that contains all project descriptions\n",
    "    \"\"\"\n",
    "    df = pd.read_csv(path)\n",
    "    filtered_df = df.replace(np.nan, '-', regex=True)\n",
    "    \n",
    "    \n",
    "    return filtered_df"
   ]
  },
  {
   "cell_type": "markdown",
   "metadata": {},
   "source": [
    "#### Define researchers data path"
   ]
  },
  {
   "cell_type": "code",
   "execution_count": 2,
   "metadata": {},
   "outputs": [],
   "source": [
    "file_path = \"../data/mapeo_investigadores.csv\""
   ]
  },
  {
   "cell_type": "markdown",
   "metadata": {},
   "source": [
    "#### Define function to clean researchers data"
   ]
  },
  {
   "cell_type": "code",
   "execution_count": 3,
   "metadata": {},
   "outputs": [],
   "source": [
    "def prepare_data(data, num_of_discp):\n",
    "    mini = data[[\"Área de procedencia/disciplina\",\"ID investigador\"]]\n",
    "    mini.columns = [\"disciplina\", \"id\"]\n",
    "\n",
    "    filtered_df = mini.loc[mini[\"disciplina\"].str.contains('\\|')]\n",
    "    mini = mini.loc[mini[\"disciplina\"].str.contains('\\|') != True]\n",
    "    new_discp = []\n",
    "    for row in filtered_df.itertuples():\n",
    "        for disciplina in row.disciplina.split(\" | \"):\n",
    "            new_discp.append([disciplina, row.id])\n",
    "    fix_df = pd.DataFrame(new_discp, columns=[\"disciplina\", \"id\"])\n",
    "    mini = mini.append(fix_df)\n",
    "    # list of disciplinary backgroud to be deleted from dataframe\n",
    "    # del_disciplinas = [\"Ciencias de la educación\"]\n",
    "    # mini = mini.loc[~mini['disciplina'].isin(del_disciplinas)]\n",
    "    \n",
    "    \n",
    "    grouped = mini.groupby(\"disciplina\")\n",
    "    df2 = grouped.count().reset_index().sort_values(by=['id'], ascending=False)\n",
    "    df2.columns = [\"disciplina\", \"count\"]\n",
    "    return df2"
   ]
  },
  {
   "cell_type": "markdown",
   "metadata": {},
   "source": [
    "#### Function to translate disciplinary backgrounds"
   ]
  },
  {
   "cell_type": "code",
   "execution_count": 4,
   "metadata": {},
   "outputs": [],
   "source": [
    "def translate(dataframe, column_to_translate, translations_filename):    \n",
    "    translations_df = read_csv(f\"../data/{translations_filename}.csv\")\n",
    "    translations_df.columns=[\"disciplina\", \"disciplinary_background\"]\n",
    "    df_def = pd.merge(dataframe, translations_df, on=column_to_translate, how='inner', validate=\"one_to_many\")\n",
    "    return df_def"
   ]
  },
  {
   "cell_type": "markdown",
   "metadata": {},
   "source": [
    "#### Run program\n",
    "## Change 'num_of_discp' to show as many disciplinary backgrounds as you want"
   ]
  },
  {
   "cell_type": "code",
   "execution_count": 5,
   "metadata": {
    "scrolled": true
   },
   "outputs": [],
   "source": [
    "num_of_discp = 20\n",
    "investigadores = read_csv(file_path)\n",
    "df2 = prepare_data(investigadores, num_of_discp)\n",
    "# parameters: (dataframe, column_to_translate, translations_filename)\n",
    "df2 = translate(df2, \"disciplina\", \"disciplinas\")"
   ]
  },
  {
   "cell_type": "markdown",
   "metadata": {},
   "source": [
    "#### Print horizontal bar plot"
   ]
  },
  {
   "cell_type": "code",
   "execution_count": 6,
   "metadata": {},
   "outputs": [
    {
     "data": {
      "text/plain": [
       "<Figure size 432x288 with 0 Axes>"
      ]
     },
     "metadata": {},
     "output_type": "display_data"
    },
    {
     "data": {
      "image/png": "[encoded data removed]",
      "text/plain": [
       "<Figure size 720x432 with 1 Axes>"
      ]
     },
     "metadata": {
      "needs_background": "light"
     },
     "output_type": "display_data"
    }
   ],
   "source": [
    "plt.figure()\n",
    "ax = df2.head(num_of_discp).plot.barh(x='disciplinary_background', y='count', figsize=(10,6), legend=False)\n",
    "ax.set_ylabel(\"\")\n",
    "ax.xaxis.tick_top() \n",
    "ax.invert_yaxis()\n",
    "plt.grid(axis='x')\n",
    "plt.show()"
   ]
  },
  {
   "cell_type": "code",
   "execution_count": 7,
   "metadata": {},
   "outputs": [
    {
     "data": {
      "text/html": [
       "<div>\n",
       "<style scoped>\n",
       "    .dataframe tbody tr th:only-of-type {\n",
       "        vertical-align: middle;\n",
       "    }\n",
       "\n",
       "    .dataframe tbody tr th {\n",
       "        vertical-align: top;\n",
       "    }\n",
       "\n",
       "    .dataframe thead th {\n",
       "        text-align: right;\n",
       "    }\n",
       "</style>\n",
       "<table border=\"1\" class=\"dataframe\">\n",
       "  <thead>\n",
       "    <tr style=\"text-align: right;\">\n",
       "      <th></th>\n",
       "      <th>disciplina</th>\n",
       "      <th>count</th>\n",
       "      <th>disciplinary_background</th>\n",
       "    </tr>\n",
       "  </thead>\n",
       "  <tbody>\n",
       "    <tr>\n",
       "      <th>0</th>\n",
       "      <td>Filología</td>\n",
       "      <td>209</td>\n",
       "      <td>Philology</td>\n",
       "    </tr>\n",
       "    <tr>\n",
       "      <th>1</th>\n",
       "      <td>Historia</td>\n",
       "      <td>95</td>\n",
       "      <td>History</td>\n",
       "    </tr>\n",
       "    <tr>\n",
       "      <th>2</th>\n",
       "      <td>Ciencias de la computación</td>\n",
       "      <td>62</td>\n",
       "      <td>Computer Science</td>\n",
       "    </tr>\n",
       "    <tr>\n",
       "      <th>3</th>\n",
       "      <td>Comunicación</td>\n",
       "      <td>49</td>\n",
       "      <td>Communication</td>\n",
       "    </tr>\n",
       "    <tr>\n",
       "      <th>4</th>\n",
       "      <td>Biblioteconomía y documentación</td>\n",
       "      <td>46</td>\n",
       "      <td>Library and Documentation Science</td>\n",
       "    </tr>\n",
       "    <tr>\n",
       "      <th>5</th>\n",
       "      <td>Arqueología</td>\n",
       "      <td>33</td>\n",
       "      <td>Archaeology</td>\n",
       "    </tr>\n",
       "    <tr>\n",
       "      <th>6</th>\n",
       "      <td>Historia del Arte</td>\n",
       "      <td>31</td>\n",
       "      <td>History of Art</td>\n",
       "    </tr>\n",
       "    <tr>\n",
       "      <th>7</th>\n",
       "      <td>Lingüística y lenguas</td>\n",
       "      <td>24</td>\n",
       "      <td>Linguistics</td>\n",
       "    </tr>\n",
       "    <tr>\n",
       "      <th>8</th>\n",
       "      <td>Geografía</td>\n",
       "      <td>16</td>\n",
       "      <td>Geography</td>\n",
       "    </tr>\n",
       "    <tr>\n",
       "      <th>9</th>\n",
       "      <td>Filosofía</td>\n",
       "      <td>16</td>\n",
       "      <td>Philosophy</td>\n",
       "    </tr>\n",
       "    <tr>\n",
       "      <th>10</th>\n",
       "      <td>Ciencias de la educación</td>\n",
       "      <td>15</td>\n",
       "      <td>Education Science</td>\n",
       "    </tr>\n",
       "    <tr>\n",
       "      <th>11</th>\n",
       "      <td>Artes visuales</td>\n",
       "      <td>14</td>\n",
       "      <td>Visual Arts</td>\n",
       "    </tr>\n",
       "    <tr>\n",
       "      <th>12</th>\n",
       "      <td>Antropología</td>\n",
       "      <td>10</td>\n",
       "      <td>Anthropology</td>\n",
       "    </tr>\n",
       "    <tr>\n",
       "      <th>13</th>\n",
       "      <td>Sociología</td>\n",
       "      <td>4</td>\n",
       "      <td>Sociology</td>\n",
       "    </tr>\n",
       "    <tr>\n",
       "      <th>14</th>\n",
       "      <td>Derecho</td>\n",
       "      <td>3</td>\n",
       "      <td>Law</td>\n",
       "    </tr>\n",
       "    <tr>\n",
       "      <th>15</th>\n",
       "      <td>Musicología</td>\n",
       "      <td>3</td>\n",
       "      <td>Musicology</td>\n",
       "    </tr>\n",
       "    <tr>\n",
       "      <th>16</th>\n",
       "      <td>Economía</td>\n",
       "      <td>2</td>\n",
       "      <td>Economy</td>\n",
       "    </tr>\n",
       "    <tr>\n",
       "      <th>17</th>\n",
       "      <td>Arquitectura</td>\n",
       "      <td>1</td>\n",
       "      <td>Architecture</td>\n",
       "    </tr>\n",
       "    <tr>\n",
       "      <th>18</th>\n",
       "      <td>Otras</td>\n",
       "      <td>1</td>\n",
       "      <td>Others</td>\n",
       "    </tr>\n",
       "    <tr>\n",
       "      <th>19</th>\n",
       "      <td>Urbanismo</td>\n",
       "      <td>1</td>\n",
       "      <td>Urbanism</td>\n",
       "    </tr>\n",
       "  </tbody>\n",
       "</table>\n",
       "</div>"
      ],
      "text/plain": [
       "                         disciplina  count            disciplinary_background\n",
       "0                         Filología    209                          Philology\n",
       "1                          Historia     95                            History\n",
       "2        Ciencias de la computación     62                   Computer Science\n",
       "3                      Comunicación     49                      Communication\n",
       "4   Biblioteconomía y documentación     46  Library and Documentation Science\n",
       "5                       Arqueología     33                        Archaeology\n",
       "6                 Historia del Arte     31                     History of Art\n",
       "7             Lingüística y lenguas     24                        Linguistics\n",
       "8                         Geografía     16                          Geography\n",
       "9                         Filosofía     16                         Philosophy\n",
       "10         Ciencias de la educación     15                  Education Science\n",
       "11                   Artes visuales     14                        Visual Arts\n",
       "12                     Antropología     10                       Anthropology\n",
       "13                       Sociología      4                          Sociology\n",
       "14                          Derecho      3                                Law\n",
       "15                      Musicología      3                         Musicology\n",
       "16                         Economía      2                            Economy\n",
       "17                     Arquitectura      1                       Architecture\n",
       "18                            Otras      1                             Others\n",
       "19                        Urbanismo      1                           Urbanism"
      ]
     },
     "execution_count": 7,
     "metadata": {},
     "output_type": "execute_result"
    }
   ],
   "source": [
    "df2"
   ]
  }
 ],
 "metadata": {
  "kernelspec": {
   "display_name": "Python 3",
   "language": "python",
   "name": "python3"
  },
  "language_info": {
   "codemirror_mode": {
    "name": "ipython",
    "version": 3
   },
   "file_extension": ".py",
   "mimetype": "text/x-python",
   "name": "python",
   "nbconvert_exporter": "python",
   "pygments_lexer": "ipython3",
   "version": "3.8.2"
  }
 },
 "nbformat": 4,
 "nbformat_minor": 2
}
