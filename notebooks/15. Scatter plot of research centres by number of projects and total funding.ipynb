{
 "cells": [
  {
   "cell_type": "markdown",
   "metadata": {},
   "source": [
    "# Fig 15. Scatter plot of research centres by number of projects and total funding obtained during the whole analysed period (1993-2019)"
   ]
  },
  {
   "cell_type": "markdown",
   "metadata": {},
   "source": [
    "#### Import libraries"
   ]
  },
  {
   "cell_type": "code",
   "execution_count": 1,
   "metadata": {},
   "outputs": [],
   "source": [
    "import matplotlib.pyplot as plt\n",
    "import numpy as np\n",
    "import pandas as pd\n",
    "import matplotlib as mpl\n",
    "import random\n",
    "\n",
    "plt.style.use('seaborn-muted')\n",
    "\n",
    "def read_csv(path):\n",
    "    \"\"\"\n",
    "    :param path: of desir the xlsx file\n",
    "    :return: String that contains all project descriptions\n",
    "    \"\"\"\n",
    "    df = pd.read_csv(path)\n",
    "    filtered_df = df.fillna(0)\n",
    "    \n",
    "    \n",
    "    return filtered_df"
   ]
  },
  {
   "cell_type": "markdown",
   "metadata": {},
   "source": [
    "#### Define projects data path"
   ]
  },
  {
   "cell_type": "code",
   "execution_count": 2,
   "metadata": {},
   "outputs": [],
   "source": [
    "file_path = \"../data/mapeo_proyectos.csv\""
   ]
  },
  {
   "cell_type": "markdown",
   "metadata": {},
   "source": [
    "#### Define function to clean projects data"
   ]
  },
  {
   "cell_type": "code",
   "execution_count": 3,
   "metadata": {},
   "outputs": [],
   "source": [
    "def prepare_data(data, number_of_centres):\n",
    "    data.drop_duplicates(subset =\"ID proyecto\", keep = \"first\", inplace = True)\n",
    "    data = data[data[\"Organismo\"] != 0]\n",
    "    mini = data[[\"ID proyecto\",\"Financiación\", \"Organismo\"]] \n",
    "    grouped = mini.groupby(\"Organismo\", as_index=False)\n",
    "    df2 = grouped.agg({'Financiación':['count', 'sum']})\n",
    "    df2.columns = [\"organismo\", \"count\", \"funding\"]\n",
    "    df2.set_index(\"organismo\")\n",
    "    # df2 = df2.sort_values(by=['count'], ascending= False)\n",
    "    df2 = df2.reset_index(drop=True)\n",
    "    acronimos = read_csv(\"../data/universidades.csv\")\n",
    "    acronimos = acronimos[['Organismo', 'Acrónimo']]\n",
    "    acronimos['Organismo'] = acronimos['Organismo'].str.upper()\n",
    "    acronimos['Organismo'] = acronimos['Organismo'].str.normalize('NFKD').str.encode('ascii', errors='ignore').str.decode('utf-8')\n",
    "    df2['organismo'] = df2['organismo'].str.normalize('NFKD').str.encode('ascii', errors='ignore').str.decode('utf-8')\n",
    "    acronimos['Organismo'] = acronimos['Organismo'].str.upper()\n",
    "    acronimos = acronimos.rename(columns={\"Organismo\": \"organismo\", \"Acrónimo\": \"acronimo\"})\n",
    "    df_def = pd.merge(df2, acronimos, on='organismo', how='inner', validate=\"one_to_many\")\n",
    "    result = df_def.groupby(\"acronimo\", sort=False).sum().reset_index()\n",
    "    result = result.sort_values(by=['count'], ascending=False).reset_index(drop=True)\n",
    "    #result = pd.merge(result, acronimos, on='acronimo', how='inner', validate=\"one_to_many\")\n",
    "    # return df_def.head(number_of_centres), acronimos\n",
    "    return result, acronimos"
   ]
  },
  {
   "cell_type": "markdown",
   "metadata": {},
   "source": [
    "#### Run program."
   ]
  },
  {
   "cell_type": "markdown",
   "metadata": {},
   "source": [
    "### You can edit \"number of centres\" parameter to show as many center as you want"
   ]
  },
  {
   "cell_type": "code",
   "execution_count": 4,
   "metadata": {},
   "outputs": [],
   "source": [
    "number_of_centres = 26\n",
    "proyectos = read_csv(file_path)\n",
    "df, acr = prepare_data(proyectos, number_of_centres)"
   ]
  },
  {
   "cell_type": "markdown",
   "metadata": {},
   "source": [
    "#### Print graph"
   ]
  },
  {
   "cell_type": "code",
   "execution_count": 5,
   "metadata": {},
   "outputs": [
    {
     "data": {
      "text/plain": [
       "<Figure size 432x288 with 0 Axes>"
      ]
     },
     "metadata": {},
     "output_type": "display_data"
    },
    {
     "data": {
      "image/png": "[encoded data removed]",
      "text/plain": [
       "<Figure size 1080x720 with 1 Axes>"
      ]
     },
     "metadata": {
      "needs_background": "light"
     },
     "output_type": "display_data"
    }
   ],
   "source": [
    "df2 = df.head(number_of_centres)\n",
    "plt.figure()\n",
    "fig, ax = plt.subplots(figsize=(15,10))\n",
    "ax.scatter(df2[\"count\"], df2[\"funding\"], alpha=0.5)\n",
    "ax.set(ylabel=\"funding (millions)\", xlabel=\"Number of projects\")\n",
    "ax.set_ylim(bottom=0)\n",
    "ax.set_xlim(left=0)\n",
    "\n",
    "# annotate each point\n",
    "n = df2[\"acronimo\"]\n",
    "for i, txt in enumerate(n):\n",
    "    ax.annotate(txt, (df2[\"count\"][i], df2[\"funding\"][i]), xytext=(10,0), textcoords='offset points', fontsize=10)\n",
    "\n",
    "plt.grid()\n",
    "plt.show()"
   ]
  },
  {
   "cell_type": "code",
   "execution_count": 6,
   "metadata": {},
   "outputs": [
    {
     "data": {
      "text/html": [
       "<div>\n",
       "<style scoped>\n",
       "    .dataframe tbody tr th:only-of-type {\n",
       "        vertical-align: middle;\n",
       "    }\n",
       "\n",
       "    .dataframe tbody tr th {\n",
       "        vertical-align: top;\n",
       "    }\n",
       "\n",
       "    .dataframe thead th {\n",
       "        text-align: right;\n",
       "    }\n",
       "</style>\n",
       "<table border=\"1\" class=\"dataframe\">\n",
       "  <thead>\n",
       "    <tr style=\"text-align: right;\">\n",
       "      <th></th>\n",
       "      <th>acronimo</th>\n",
       "      <th>count</th>\n",
       "      <th>funding</th>\n",
       "    </tr>\n",
       "  </thead>\n",
       "  <tbody>\n",
       "    <tr>\n",
       "      <th>0</th>\n",
       "      <td>UB</td>\n",
       "      <td>33</td>\n",
       "      <td>1783391.0</td>\n",
       "    </tr>\n",
       "    <tr>\n",
       "      <th>1</th>\n",
       "      <td>UCM</td>\n",
       "      <td>30</td>\n",
       "      <td>1321786.0</td>\n",
       "    </tr>\n",
       "    <tr>\n",
       "      <th>2</th>\n",
       "      <td>CSIC</td>\n",
       "      <td>25</td>\n",
       "      <td>1131889.0</td>\n",
       "    </tr>\n",
       "    <tr>\n",
       "      <th>3</th>\n",
       "      <td>USC</td>\n",
       "      <td>23</td>\n",
       "      <td>957839.0</td>\n",
       "    </tr>\n",
       "    <tr>\n",
       "      <th>4</th>\n",
       "      <td>UGR</td>\n",
       "      <td>21</td>\n",
       "      <td>812610.0</td>\n",
       "    </tr>\n",
       "    <tr>\n",
       "      <th>5</th>\n",
       "      <td>UDA</td>\n",
       "      <td>15</td>\n",
       "      <td>849892.0</td>\n",
       "    </tr>\n",
       "    <tr>\n",
       "      <th>6</th>\n",
       "      <td>UNED</td>\n",
       "      <td>15</td>\n",
       "      <td>1407619.0</td>\n",
       "    </tr>\n",
       "    <tr>\n",
       "      <th>7</th>\n",
       "      <td>UAB</td>\n",
       "      <td>15</td>\n",
       "      <td>675461.0</td>\n",
       "    </tr>\n",
       "    <tr>\n",
       "      <th>8</th>\n",
       "      <td>UPF</td>\n",
       "      <td>14</td>\n",
       "      <td>579920.0</td>\n",
       "    </tr>\n",
       "    <tr>\n",
       "      <th>9</th>\n",
       "      <td>US</td>\n",
       "      <td>10</td>\n",
       "      <td>455270.0</td>\n",
       "    </tr>\n",
       "    <tr>\n",
       "      <th>10</th>\n",
       "      <td>USAL</td>\n",
       "      <td>10</td>\n",
       "      <td>498276.0</td>\n",
       "    </tr>\n",
       "    <tr>\n",
       "      <th>11</th>\n",
       "      <td>UMA</td>\n",
       "      <td>10</td>\n",
       "      <td>382190.0</td>\n",
       "    </tr>\n",
       "    <tr>\n",
       "      <th>12</th>\n",
       "      <td>UA</td>\n",
       "      <td>9</td>\n",
       "      <td>496720.0</td>\n",
       "    </tr>\n",
       "    <tr>\n",
       "      <th>13</th>\n",
       "      <td>UNC</td>\n",
       "      <td>9</td>\n",
       "      <td>551320.0</td>\n",
       "    </tr>\n",
       "    <tr>\n",
       "      <th>14</th>\n",
       "      <td>ULGCF</td>\n",
       "      <td>8</td>\n",
       "      <td>289950.0</td>\n",
       "    </tr>\n",
       "    <tr>\n",
       "      <th>15</th>\n",
       "      <td>Uva</td>\n",
       "      <td>8</td>\n",
       "      <td>251012.0</td>\n",
       "    </tr>\n",
       "    <tr>\n",
       "      <th>16</th>\n",
       "      <td>UV</td>\n",
       "      <td>8</td>\n",
       "      <td>2697028.0</td>\n",
       "    </tr>\n",
       "    <tr>\n",
       "      <th>17</th>\n",
       "      <td>CVC</td>\n",
       "      <td>6</td>\n",
       "      <td>639844.0</td>\n",
       "    </tr>\n",
       "    <tr>\n",
       "      <th>18</th>\n",
       "      <td>UAH</td>\n",
       "      <td>6</td>\n",
       "      <td>293425.0</td>\n",
       "    </tr>\n",
       "    <tr>\n",
       "      <th>19</th>\n",
       "      <td>UPV</td>\n",
       "      <td>6</td>\n",
       "      <td>453608.0</td>\n",
       "    </tr>\n",
       "    <tr>\n",
       "      <th>20</th>\n",
       "      <td>UCA</td>\n",
       "      <td>5</td>\n",
       "      <td>118650.0</td>\n",
       "    </tr>\n",
       "    <tr>\n",
       "      <th>21</th>\n",
       "      <td>UCLM</td>\n",
       "      <td>5</td>\n",
       "      <td>231750.0</td>\n",
       "    </tr>\n",
       "    <tr>\n",
       "      <th>22</th>\n",
       "      <td>UM</td>\n",
       "      <td>5</td>\n",
       "      <td>140405.0</td>\n",
       "    </tr>\n",
       "    <tr>\n",
       "      <th>23</th>\n",
       "      <td>UPV/EHU</td>\n",
       "      <td>4</td>\n",
       "      <td>185193.0</td>\n",
       "    </tr>\n",
       "    <tr>\n",
       "      <th>24</th>\n",
       "      <td>UdL</td>\n",
       "      <td>4</td>\n",
       "      <td>166350.0</td>\n",
       "    </tr>\n",
       "    <tr>\n",
       "      <th>25</th>\n",
       "      <td>UOC</td>\n",
       "      <td>4</td>\n",
       "      <td>1616268.0</td>\n",
       "    </tr>\n",
       "  </tbody>\n",
       "</table>\n",
       "</div>"
      ],
      "text/plain": [
       "   acronimo  count    funding\n",
       "0        UB     33  1783391.0\n",
       "1       UCM     30  1321786.0\n",
       "2      CSIC     25  1131889.0\n",
       "3       USC     23   957839.0\n",
       "4       UGR     21   812610.0\n",
       "5       UDA     15   849892.0\n",
       "6      UNED     15  1407619.0\n",
       "7       UAB     15   675461.0\n",
       "8       UPF     14   579920.0\n",
       "9       US      10   455270.0\n",
       "10     USAL     10   498276.0\n",
       "11      UMA     10   382190.0\n",
       "12      UA       9   496720.0\n",
       "13      UNC      9   551320.0\n",
       "14    ULGCF      8   289950.0\n",
       "15      Uva      8   251012.0\n",
       "16       UV      8  2697028.0\n",
       "17      CVC      6   639844.0\n",
       "18      UAH      6   293425.0\n",
       "19      UPV      6   453608.0\n",
       "20      UCA      5   118650.0\n",
       "21     UCLM      5   231750.0\n",
       "22      UM       5   140405.0\n",
       "23  UPV/EHU      4   185193.0\n",
       "24      UdL      4   166350.0\n",
       "25      UOC      4  1616268.0"
      ]
     },
     "execution_count": 6,
     "metadata": {},
     "output_type": "execute_result"
    }
   ],
   "source": [
    "df.head(number_of_centres)"
   ]
  }
 ],
 "metadata": {
  "kernelspec": {
   "display_name": "Python 3",
   "language": "python",
   "name": "python3"
  },
  "language_info": {
   "codemirror_mode": {
    "name": "ipython",
    "version": 3
   },
   "file_extension": ".py",
   "mimetype": "text/x-python",
   "name": "python",
   "nbconvert_exporter": "python",
   "pygments_lexer": "ipython3",
   "version": "3.8.2"
  }
 },
 "nbformat": 4,
 "nbformat_minor": 2
}
