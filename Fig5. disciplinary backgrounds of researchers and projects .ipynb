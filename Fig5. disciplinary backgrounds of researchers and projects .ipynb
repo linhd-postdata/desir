{
 "cells": [
  {
   "cell_type": "markdown",
   "metadata": {},
   "source": [
    "# Fig5. Comparison among disciplinary backgrounds of researchers and projects "
   ]
  },
  {
   "cell_type": "markdown",
   "metadata": {},
   "source": [
    "#### Import libraries"
   ]
  },
  {
   "cell_type": "code",
   "execution_count": 1,
   "metadata": {},
   "outputs": [],
   "source": [
    "import matplotlib.pyplot as plt\n",
    "import numpy as np\n",
    "import pandas as pd\n",
    "\n",
    "from collections import Counter\n",
    "\n",
    "def read_csv(path):\n",
    "    \"\"\"\n",
    "    :param path: of desir the xlsx file\n",
    "    :return: String that contains all project descriptions\n",
    "    \"\"\"\n",
    "    df = pd.read_csv(path)\n",
    "    filtered_df = df.replace(np.nan, '-', regex=True)\n",
    "    \n",
    "    \n",
    "    return filtered_df"
   ]
  },
  {
   "cell_type": "markdown",
   "metadata": {},
   "source": [
    "#### Define researchers and projects data path"
   ]
  },
  {
   "cell_type": "code",
   "execution_count": 2,
   "metadata": {},
   "outputs": [],
   "source": [
    "file_path_i = \"data/mapeo_investigadores.csv\"\n",
    "file_path_p = \"data/mapeo_proyectos.csv\""
   ]
  },
  {
   "cell_type": "markdown",
   "metadata": {},
   "source": [
    "#### Define function to clean researchers data"
   ]
  },
  {
   "cell_type": "code",
   "execution_count": 3,
   "metadata": {},
   "outputs": [],
   "source": [
    "def prepare_data(investigadores, proyectos, number_of_areas):\n",
    "    investigadores = read_csv(file_path_i)\n",
    "    mini = investigadores[[\"Área de procedencia/disciplina\",\"ID investigador\"]]\n",
    "    mini.columns = [\"disciplina\", \"id\"]\n",
    "    # split disciplinary backgrounds in rows with \",\"\n",
    "    filtered_df = mini.loc[mini[\"disciplina\"].str.contains(', ')]\n",
    "    mini = mini.loc[mini[\"disciplina\"].str.contains(', ') != True]\n",
    "    new_discp = []\n",
    "    for row in filtered_df.itertuples():\n",
    "        for disciplina in row.disciplina.split(\", \"):\n",
    "            new_discp.append([disciplina, row.id])\n",
    "    fix_df = pd.DataFrame(new_discp, columns=[\"disciplina\", \"id\"])\n",
    "    mini = mini.append(fix_df)\n",
    "        \n",
    "    grouped = mini.groupby(\"disciplina\")\n",
    "    df_investigadores = grouped.count().sort_values(by=['id'], ascending=False)\n",
    "    df_investigadores[\"pcts\"] = df_investigadores.apply(lambda x:100 * x / float(x.sum()))\n",
    "    df_investigadores.columns = [\"count_i\", \"researchers\"]\n",
    "\n",
    "    proyectos = read_csv(file_path_p)\n",
    "    mini = proyectos[[\"Área de procedencia/disciplina\",\"ID investigadores\"]]\n",
    "    proyectos.drop_duplicates(subset =\"ID investigadores\", keep = \"first\") \n",
    "    mini.columns = [\"disciplina\", \"id\"]\n",
    "        \n",
    "    # split disciplinary backgrounds in rows with \",\"\n",
    "    filtered_df = mini.loc[mini[\"disciplina\"].str.contains(', ')]\n",
    "    mini = mini.loc[mini[\"disciplina\"].str.contains(', ') != True]\n",
    "    new_discp = []\n",
    "    for row in filtered_df.itertuples():\n",
    "        for disciplina in row.disciplina.split(\", \"):\n",
    "            new_discp.append([disciplina, row.id])\n",
    "    fix_df = pd.DataFrame(new_discp, columns=[\"disciplina\", \"id\"])\n",
    "    mini = mini.append(fix_df)\n",
    "    \n",
    "    grouped = mini.groupby(\"disciplina\")\n",
    "    df_proyectos = grouped.count().sort_values(by=['id'], ascending=False)\n",
    "    df_proyectos[\"pcts\"] = df_proyectos.apply(lambda x:100 * x / float(x.sum()))\n",
    "    df_proyectos.columns = [\"count_p\", \"projects\"]\n",
    "    \n",
    "    result = df_investigadores.join(df_proyectos, how='outer')\n",
    "    result = result.drop(columns=['count_p', 'count_i'])\n",
    "    result = result.sort_values(by=['projects'], ascending=False)\n",
    "    \n",
    "    return result.head(number_of_areas)"
   ]
  },
  {
   "cell_type": "markdown",
   "metadata": {},
   "source": [
    "#### Function to translate disciplinary backgrounds"
   ]
  },
  {
   "cell_type": "code",
   "execution_count": 4,
   "metadata": {},
   "outputs": [],
   "source": [
    "def translate(dataframe, column_to_translate, translations_filename):    \n",
    "    translations_df = read_csv(f\"data/{translations_filename}.csv\")\n",
    "    translations_df.columns=[\"disciplina\", \"disciplinary_background\"]\n",
    "    df_def = pd.merge(dataframe, translations_df, on=column_to_translate, how='inner', validate=\"one_to_many\")\n",
    "    return df_def"
   ]
  },
  {
   "cell_type": "markdown",
   "metadata": {},
   "source": [
    "#### Run program\n",
    "## Change 'num_of_discp' to show as many disciplinary backgrounds as you want'"
   ]
  },
  {
   "cell_type": "code",
   "execution_count": 5,
   "metadata": {},
   "outputs": [],
   "source": [
    "num_of_discp = 15\n",
    "investigadores = read_csv(file_path_i)\n",
    "proyectos = read_csv(file_path_p)\n",
    "df2 = prepare_data(investigadores, proyectos, num_of_discp)\n",
    "df2 = translate(df2, \"disciplina\", \"disciplinas\")"
   ]
  },
  {
   "cell_type": "markdown",
   "metadata": {},
   "source": [
    "#### Print horizontal bar plot"
   ]
  },
  {
   "cell_type": "code",
   "execution_count": 6,
   "metadata": {},
   "outputs": [
    {
     "data": {
      "text/plain": [
       "<Figure size 432x288 with 0 Axes>"
      ]
     },
     "metadata": {},
     "output_type": "display_data"
    },
    {
     "data": {
      "image/png": "[encoded data removed]",
      "text/plain": [
       "<Figure size 720x432 with 1 Axes>"
      ]
     },
     "metadata": {
      "needs_background": "light"
     },
     "output_type": "display_data"
    }
   ],
   "source": [
    "plt.figure()\n",
    "ax = df2.plot.barh(x=\"disciplinary_background\", figsize=(10,6), legend=True)\n",
    "ax.set_ylabel(\"\")\n",
    "ax.xaxis.tick_top() \n",
    "ax.invert_yaxis()\n",
    "plt.show()"
   ]
  }
 ],
 "metadata": {
  "kernelspec": {
   "display_name": "Python 3",
   "language": "python",
   "name": "python3"
  },
  "language_info": {
   "codemirror_mode": {
    "name": "ipython",
    "version": 3
   },
   "file_extension": ".py",
   "mimetype": "text/x-python",
   "name": "python",
   "nbconvert_exporter": "python",
   "pygments_lexer": "ipython3",
   "version": "3.7.5"
  }
 },
 "nbformat": 4,
 "nbformat_minor": 2
}
