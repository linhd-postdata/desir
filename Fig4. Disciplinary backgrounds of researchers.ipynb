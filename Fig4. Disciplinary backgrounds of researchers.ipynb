{
 "cells": [
  {
   "cell_type": "markdown",
   "metadata": {},
   "source": [
    "# Fig4. Disciplinary backgrounds of researchers working in Digital Humanities "
   ]
  },
  {
   "cell_type": "markdown",
   "metadata": {},
   "source": [
    "#### Import libraries"
   ]
  },
  {
   "cell_type": "code",
   "execution_count": 1,
   "metadata": {},
   "outputs": [],
   "source": [
    "import matplotlib.pyplot as plt\n",
    "import numpy as np\n",
    "import pandas as pd\n",
    "\n",
    "from collections import Counter\n",
    "\n",
    "def read_csv(path):\n",
    "    \"\"\"\n",
    "    :param path: of desir the xlsx file\n",
    "    :return: String that contains all project descriptions\n",
    "    \"\"\"\n",
    "    df = pd.read_csv(path)\n",
    "    filtered_df = df.replace(np.nan, '-', regex=True)\n",
    "    \n",
    "    \n",
    "    return filtered_df"
   ]
  },
  {
   "cell_type": "markdown",
   "metadata": {},
   "source": [
    "#### Define researchers data path"
   ]
  },
  {
   "cell_type": "code",
   "execution_count": 2,
   "metadata": {},
   "outputs": [],
   "source": [
    "file_path = \"data/mapeo_investigadores.csv\""
   ]
  },
  {
   "cell_type": "markdown",
   "metadata": {},
   "source": [
    "#### Define function to clean researchers data"
   ]
  },
  {
   "cell_type": "code",
   "execution_count": 19,
   "metadata": {},
   "outputs": [],
   "source": [
    "def prepare_data(data, num_of_discp):\n",
    "    mini = data[[\"Área de procedencia/disciplina\",\"ID investigador\"]]\n",
    "    mini.columns = [\"disciplina\", \"id\"]\n",
    "\n",
    "    filtered_df = mini.loc[mini[\"disciplina\"].str.contains(', ')]\n",
    "    mini = mini.loc[mini[\"disciplina\"].str.contains(', ') != True]\n",
    "    new_discp = []\n",
    "    for row in filtered_df.itertuples():\n",
    "        for disciplina in row.disciplina.split(\", \"):\n",
    "            new_discp.append([disciplina, row.id])\n",
    "    fix_df = pd.DataFrame(new_discp, columns=[\"disciplina\", \"id\"])\n",
    "    mini = mini.append(fix_df)\n",
    "    \n",
    "    \n",
    "    grouped = mini.groupby(\"disciplina\")\n",
    "    df2 = grouped.count().reset_index().sort_values(by=['id'], ascending=False).head(num_of_discp)\n",
    "    return df2"
   ]
  },
  {
   "cell_type": "markdown",
   "metadata": {},
   "source": [
    "#### Function to translate disciplinary backgrounds"
   ]
  },
  {
   "cell_type": "code",
   "execution_count": 20,
   "metadata": {},
   "outputs": [],
   "source": [
    "def translate(dataframe, column_to_translate, translations_filename):    \n",
    "    translations_df = read_csv(f\"data/{translations_filename}.csv\")\n",
    "    translations_df.columns=[\"disciplina\", \"disciplinary_background\"]\n",
    "    df_def = pd.merge(dataframe, translations_df, on=column_to_translate, how='inner', validate=\"one_to_many\")\n",
    "    return df_def"
   ]
  },
  {
   "cell_type": "markdown",
   "metadata": {},
   "source": [
    "#### Run program\n",
    "## Change 'num_of_discp' to show as many disciplinary backgrounds as you want'"
   ]
  },
  {
   "cell_type": "code",
   "execution_count": 23,
   "metadata": {
    "scrolled": true
   },
   "outputs": [],
   "source": [
    "num_of_discp = 15\n",
    "investigadores = read_csv(file_path)\n",
    "df2 = prepare_data(investigadores, num_of_discp)\n",
    "df2 = translate(df2, \"disciplina\", \"disciplinas\")"
   ]
  },
  {
   "cell_type": "markdown",
   "metadata": {},
   "source": [
    "#### Print horizontal bar plot"
   ]
  },
  {
   "cell_type": "code",
   "execution_count": 24,
   "metadata": {},
   "outputs": [
    {
     "data": {
      "text/plain": [
       "<Figure size 432x288 with 0 Axes>"
      ]
     },
     "metadata": {},
     "output_type": "display_data"
    },
    {
     "data": {
      "image/png": "[encoded data removed]",
      "text/plain": [
       "<Figure size 720x432 with 1 Axes>"
      ]
     },
     "metadata": {
      "needs_background": "light"
     },
     "output_type": "display_data"
    }
   ],
   "source": [
    "plt.figure()\n",
    "ax = df2.plot.barh(x='disciplina', y='id', figsize=(10,6), legend=False)\n",
    "ax.set_ylabel(\"\")\n",
    "ax.xaxis.tick_top() \n",
    "ax.invert_yaxis()\n",
    "plt.show()"
   ]
  },
  {
   "cell_type": "code",
   "execution_count": null,
   "metadata": {},
   "outputs": [],
   "source": []
  }
 ],
 "metadata": {
  "kernelspec": {
   "display_name": "Python 3",
   "language": "python",
   "name": "python3"
  },
  "language_info": {
   "codemirror_mode": {
    "name": "ipython",
    "version": 3
   },
   "file_extension": ".py",
   "mimetype": "text/x-python",
   "name": "python",
   "nbconvert_exporter": "python",
   "pygments_lexer": "ipython3",
   "version": "3.7.5"
  }
 },
 "nbformat": 4,
 "nbformat_minor": 2
}
