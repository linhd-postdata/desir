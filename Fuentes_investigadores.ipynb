{
 "cells": [
  {
   "cell_type": "code",
   "execution_count": 1,
   "metadata": {},
   "outputs": [],
   "source": [
    "import matplotlib.pyplot as plt\n",
    "import numpy as np\n",
    "import pandas as pd\n",
    "\n",
    "from collections import Counter\n",
    "\n",
    "def read_csv(path):\n",
    "    \"\"\"\n",
    "    :param path: of desir the xlsx file\n",
    "    :return: String that contains all project descriptions\n",
    "    \"\"\"\n",
    "    df = pd.read_csv(path)\n",
    "    filtered_df = df.replace(np.nan, '-', regex=True)\n",
    "    \n",
    "    \n",
    "    return filtered_df"
   ]
  },
  {
   "cell_type": "code",
   "execution_count": 2,
   "metadata": {},
   "outputs": [],
   "source": [
    "proyectos = read_csv(\"data/mapeo_investigadores.csv\")"
   ]
  },
  {
   "cell_type": "code",
   "execution_count": 3,
   "metadata": {},
   "outputs": [
    {
     "data": {
      "text/plain": [
       "0                          Bibliografía\n",
       "1                Proyectos MediaLab UGR\n",
       "2                Proyectos MediaLab UGR\n",
       "3                               GrinUGR\n",
       "4                          Bibliografía\n",
       "                     ...               \n",
       "598    Agencia Estatal de Investigación\n",
       "599                       Fuente propia\n",
       "600                        Bibliografía\n",
       "601                        Web personal\n",
       "602    Agencia Estatal de Investigación\n",
       "Name: Fuente de información, Length: 603, dtype: object"
      ]
     },
     "execution_count": 3,
     "metadata": {},
     "output_type": "execute_result"
    }
   ],
   "source": [
    "mini = proyectos[\"Fuente de información\"]\n",
    "mini"
   ]
  },
  {
   "cell_type": "code",
   "execution_count": 4,
   "metadata": {
    "scrolled": true
   },
   "outputs": [],
   "source": [
    "sources_list = mini.tolist()\n",
    "def_list = []\n",
    "for item in sources_list:\n",
    "    if \",\" in item:\n",
    "        comas = item.split(\", \")\n",
    "        for element in comas:\n",
    "            def_list.append(element.strip())\n",
    "    else: \n",
    "        def_list.append(item.strip())"
   ]
  },
  {
   "cell_type": "code",
   "execution_count": 5,
   "metadata": {
    "scrolled": false
   },
   "outputs": [],
   "source": [
    "counter = Counter(def_list).most_common()"
   ]
  },
  {
   "cell_type": "code",
   "execution_count": 6,
   "metadata": {},
   "outputs": [],
   "source": [
    "sources_dict = dict(counter)"
   ]
  },
  {
   "cell_type": "code",
   "execution_count": 7,
   "metadata": {},
   "outputs": [],
   "source": [
    "acronimos = read_csv(\"data/Fuentes-Table 1.csv\")\n",
    "acronimos = acronimos.set_index('Fuente propia')"
   ]
  },
  {
   "cell_type": "code",
   "execution_count": 8,
   "metadata": {},
   "outputs": [],
   "source": [
    "acronimos_dict = acronimos.T.to_dict('records')"
   ]
  },
  {
   "cell_type": "code",
   "execution_count": 9,
   "metadata": {},
   "outputs": [
    {
     "data": {
      "text/html": [
       "<div>\n",
       "<style scoped>\n",
       "    .dataframe tbody tr th:only-of-type {\n",
       "        vertical-align: middle;\n",
       "    }\n",
       "\n",
       "    .dataframe tbody tr th {\n",
       "        vertical-align: top;\n",
       "    }\n",
       "\n",
       "    .dataframe thead th {\n",
       "        text-align: right;\n",
       "    }\n",
       "</style>\n",
       "<table border=\"1\" class=\"dataframe\">\n",
       "  <thead>\n",
       "    <tr style=\"text-align: right;\">\n",
       "      <th></th>\n",
       "      <th>Acrónimo</th>\n",
       "    </tr>\n",
       "    <tr>\n",
       "      <th>Fuente propia</th>\n",
       "      <th></th>\n",
       "    </tr>\n",
       "  </thead>\n",
       "  <tbody>\n",
       "    <tr>\n",
       "      <th>Agencia Estatal de Investigación</th>\n",
       "      <td>AEI</td>\n",
       "    </tr>\n",
       "    <tr>\n",
       "      <th>Bibliografía</th>\n",
       "      <td>Biblio</td>\n",
       "    </tr>\n",
       "    <tr>\n",
       "      <th>Congresos Humanidades Digitales Hispánicas</th>\n",
       "      <td>CHDH</td>\n",
       "    </tr>\n",
       "    <tr>\n",
       "      <th>CONGRESO INTERNACIONAL HUMANIDADES DIGITALES: VISIBILIDAD Y DIFUSIÓN DE LA INVESTIGACIÓN</th>\n",
       "      <td>CHDH2</td>\n",
       "    </tr>\n",
       "    <tr>\n",
       "      <th>GrinUGR</th>\n",
       "      <td>GrinUGR</td>\n",
       "    </tr>\n",
       "    <tr>\n",
       "      <th>Fundación BBVA</th>\n",
       "      <td>FBBVA</td>\n",
       "    </tr>\n",
       "    <tr>\n",
       "      <th>Fuente propia</th>\n",
       "      <td>Propia</td>\n",
       "    </tr>\n",
       "    <tr>\n",
       "      <th>Red Knowmetrics</th>\n",
       "      <td>RedK</td>\n",
       "    </tr>\n",
       "    <tr>\n",
       "      <th>Congreso Territorios digitales</th>\n",
       "      <td>CTD</td>\n",
       "    </tr>\n",
       "    <tr>\n",
       "      <th>Proyectos subvencionados RecerCaixa</th>\n",
       "      <td>RCaixa</td>\n",
       "    </tr>\n",
       "    <tr>\n",
       "      <th>Google</th>\n",
       "      <td>Google</td>\n",
       "    </tr>\n",
       "    <tr>\n",
       "      <th>ARACNE</th>\n",
       "      <td>ARACNE</td>\n",
       "    </tr>\n",
       "    <tr>\n",
       "      <th>Jornada: Proyectos de humanidades digitales en la BNE</th>\n",
       "      <td>BNE-HD</td>\n",
       "    </tr>\n",
       "    <tr>\n",
       "      <th>Web personal</th>\n",
       "      <td>WebP</td>\n",
       "    </tr>\n",
       "    <tr>\n",
       "      <th>I Jornada científico-técnica en Humanidades Digitales en el CSIC</th>\n",
       "      <td>CSIC1</td>\n",
       "    </tr>\n",
       "    <tr>\n",
       "      <th>LINHD</th>\n",
       "      <td>LINHD</td>\n",
       "    </tr>\n",
       "    <tr>\n",
       "      <th>Proyectos MediaLab UGR</th>\n",
       "      <td>Medialab</td>\n",
       "    </tr>\n",
       "    <tr>\n",
       "      <th>Biblioteca Virtual Miguel de Cervantes</th>\n",
       "      <td>BVMC</td>\n",
       "    </tr>\n",
       "    <tr>\n",
       "      <th>BIDISO</th>\n",
       "      <td>BIDISO</td>\n",
       "    </tr>\n",
       "    <tr>\n",
       "      <th>Portal del Hispanismo</th>\n",
       "      <td>PHisp</td>\n",
       "    </tr>\n",
       "    <tr>\n",
       "      <th>I EDICIÓN DE LOS PREMIOS HDH 2018</th>\n",
       "      <td>HDH-P</td>\n",
       "    </tr>\n",
       "    <tr>\n",
       "      <th>Academia.edu</th>\n",
       "      <td>Ac.Edu</td>\n",
       "    </tr>\n",
       "    <tr>\n",
       "      <th>Diarium (USAL)</th>\n",
       "      <td>D-USAL</td>\n",
       "    </tr>\n",
       "    <tr>\n",
       "      <th>Seminario Historia y Humanidades Digitales UCLM 2017</th>\n",
       "      <td>UCMLHD</td>\n",
       "    </tr>\n",
       "    <tr>\n",
       "      <th>Proyecto Andrés de Poza</th>\n",
       "      <td>PAdP</td>\n",
       "    </tr>\n",
       "    <tr>\n",
       "      <th>Proyecto ReMetCa</th>\n",
       "      <td>ReMetCa</td>\n",
       "    </tr>\n",
       "    <tr>\n",
       "      <th>http://www.consorciomadrono.es/disponibles-los-videos-jornadas-futuro</th>\n",
       "      <td>Madroño</td>\n",
       "    </tr>\n",
       "    <tr>\n",
       "      <th>CORDIS (EU research results)</th>\n",
       "      <td>CORDIS</td>\n",
       "    </tr>\n",
       "  </tbody>\n",
       "</table>\n",
       "</div>"
      ],
      "text/plain": [
       "                                                    Acrónimo\n",
       "Fuente propia                                               \n",
       "Agencia Estatal de Investigación                         AEI\n",
       "Bibliografía                                          Biblio\n",
       "Congresos Humanidades Digitales Hispánicas              CHDH\n",
       "CONGRESO INTERNACIONAL HUMANIDADES DIGITALES: V...     CHDH2\n",
       "GrinUGR                                              GrinUGR\n",
       "Fundación BBVA                                         FBBVA\n",
       "Fuente propia                                         Propia\n",
       "Red Knowmetrics                                         RedK\n",
       "Congreso Territorios digitales                           CTD\n",
       "Proyectos subvencionados RecerCaixa                   RCaixa\n",
       "Google                                                Google\n",
       "ARACNE                                                ARACNE\n",
       "Jornada: Proyectos de humanidades digitales en ...    BNE-HD\n",
       "Web personal                                            WebP\n",
       "I Jornada científico-técnica en Humanidades Dig...     CSIC1\n",
       "LINHD                                                  LINHD\n",
       "Proyectos MediaLab UGR                              Medialab\n",
       "Biblioteca Virtual Miguel de Cervantes                  BVMC\n",
       "BIDISO                                                BIDISO\n",
       "Portal del Hispanismo                                  PHisp\n",
       "I EDICIÓN DE LOS PREMIOS HDH 2018                      HDH-P\n",
       "Academia.edu                                          Ac.Edu\n",
       "Diarium (USAL)                                        D-USAL\n",
       "Seminario Historia y Humanidades Digitales UCLM...    UCMLHD\n",
       "Proyecto Andrés de Poza                                 PAdP\n",
       "Proyecto ReMetCa                                     ReMetCa\n",
       "http://www.consorciomadrono.es/disponibles-los-...   Madroño\n",
       "CORDIS (EU research results)                          CORDIS"
      ]
     },
     "execution_count": 9,
     "metadata": {},
     "output_type": "execute_result"
    }
   ],
   "source": [
    "acronimos_dict = acronimos_dict[0]\n",
    "acronimos"
   ]
  },
  {
   "cell_type": "code",
   "execution_count": 10,
   "metadata": {},
   "outputs": [],
   "source": [
    "# new dict with acronims\n",
    "corrected_dict = {}\n",
    "for key, value in sources_dict.items():\n",
    "    corrected_dict.update({ acronimos_dict.get(key, \"No especificado\"): value }) "
   ]
  },
  {
   "cell_type": "markdown",
   "metadata": {},
   "source": [
    "# Print treemap"
   ]
  },
  {
   "cell_type": "code",
   "execution_count": 12,
   "metadata": {},
   "outputs": [],
   "source": [
    "import squarify"
   ]
  },
  {
   "cell_type": "code",
   "execution_count": 14,
   "metadata": {},
   "outputs": [
    {
     "data": {
      "image/png": "[encoded data removed]",
      "text/plain": [
       "<Figure size 1152x1152 with 1 Axes>"
      ]
     },
     "metadata": {
      "needs_background": "light"
     },
     "output_type": "display_data"
    }
   ],
   "source": [
    "#Create our plot and resize it.\n",
    "fig = plt.gcf()\n",
    "ax = fig.add_subplot()\n",
    "fig.set_size_inches(16, 16)\n",
    "colors = [\"red\", \"tan\", \"green\", \"blue\", \"grey\", \"gold\", \"violet\", \"pink\", \"cyan\", \"indigo\"]\n",
    "squarify.plot(sizes=corrected_dict.values(), label=corrected_dict.keys(), color=colors, alpha=.5, text_kwargs={'fontsize':9})\n",
    "plt.title(\"Fuentes de información - Investigadores\",fontsize=23,fontweight=\"bold\")\n",
    "\n",
    "plt.axis('off')\n",
    "plt.show() "
   ]
  },
  {
   "cell_type": "markdown",
   "metadata": {},
   "source": [
    "# Print table"
   ]
  },
  {
   "cell_type": "code",
   "execution_count": 15,
   "metadata": {},
   "outputs": [
    {
     "data": {
      "text/html": [
       "<div>\n",
       "<style scoped>\n",
       "    .dataframe tbody tr th:only-of-type {\n",
       "        vertical-align: middle;\n",
       "    }\n",
       "\n",
       "    .dataframe tbody tr th {\n",
       "        vertical-align: top;\n",
       "    }\n",
       "\n",
       "    .dataframe thead th {\n",
       "        text-align: right;\n",
       "    }\n",
       "</style>\n",
       "<table border=\"1\" class=\"dataframe\">\n",
       "  <thead>\n",
       "    <tr style=\"text-align: right;\">\n",
       "      <th></th>\n",
       "      <th>0</th>\n",
       "    </tr>\n",
       "  </thead>\n",
       "  <tbody>\n",
       "    <tr>\n",
       "      <th>Bibliografía</th>\n",
       "      <td>276</td>\n",
       "    </tr>\n",
       "    <tr>\n",
       "      <th>Agencia Estatal de Investigación</th>\n",
       "      <td>90</td>\n",
       "    </tr>\n",
       "    <tr>\n",
       "      <th>Congresos Humanidades Digitales Hispánicas</th>\n",
       "      <td>46</td>\n",
       "    </tr>\n",
       "    <tr>\n",
       "      <th>GrinUGR</th>\n",
       "      <td>32</td>\n",
       "    </tr>\n",
       "    <tr>\n",
       "      <th>Fuente propia</th>\n",
       "      <td>24</td>\n",
       "    </tr>\n",
       "    <tr>\n",
       "      <th>Congreso Territorio digitales</th>\n",
       "      <td>23</td>\n",
       "    </tr>\n",
       "    <tr>\n",
       "      <th>CONGRESO INTERNACIONAL HUMANIDADES DIGITALES: VISIBILIDAD Y DIFUSIÓN DE LA INVESTIGACIÓN</th>\n",
       "      <td>20</td>\n",
       "    </tr>\n",
       "    <tr>\n",
       "      <th>Fundación BBVA</th>\n",
       "      <td>15</td>\n",
       "    </tr>\n",
       "    <tr>\n",
       "      <th>Red Knowmetrics</th>\n",
       "      <td>13</td>\n",
       "    </tr>\n",
       "    <tr>\n",
       "      <th>Proyectos subvencionados RecerCaixa</th>\n",
       "      <td>12</td>\n",
       "    </tr>\n",
       "    <tr>\n",
       "      <th>Google</th>\n",
       "      <td>11</td>\n",
       "    </tr>\n",
       "    <tr>\n",
       "      <th>Web personal</th>\n",
       "      <td>11</td>\n",
       "    </tr>\n",
       "    <tr>\n",
       "      <th>Proyectos MediaLab UGR</th>\n",
       "      <td>5</td>\n",
       "    </tr>\n",
       "    <tr>\n",
       "      <th>I Jornada científico-técnica en Humanidades Digitales en el CSIC</th>\n",
       "      <td>5</td>\n",
       "    </tr>\n",
       "    <tr>\n",
       "      <th>Academia.edu</th>\n",
       "      <td>4</td>\n",
       "    </tr>\n",
       "    <tr>\n",
       "      <th>LINHD</th>\n",
       "      <td>4</td>\n",
       "    </tr>\n",
       "    <tr>\n",
       "      <th>Biblioteca Virtual Miguel de Cervantes</th>\n",
       "      <td>3</td>\n",
       "    </tr>\n",
       "    <tr>\n",
       "      <th>Jornada: Proyectos de humanidades digitales en la BNE</th>\n",
       "      <td>3</td>\n",
       "    </tr>\n",
       "    <tr>\n",
       "      <th>Seminario Historia y Humanidades Digitales UCLM 2017</th>\n",
       "      <td>3</td>\n",
       "    </tr>\n",
       "    <tr>\n",
       "      <th>I EDICIÓN DE LOS PREMIOS HDH 2018</th>\n",
       "      <td>2</td>\n",
       "    </tr>\n",
       "    <tr>\n",
       "      <th>ARACNE</th>\n",
       "      <td>2</td>\n",
       "    </tr>\n",
       "    <tr>\n",
       "      <th>-</th>\n",
       "      <td>2</td>\n",
       "    </tr>\n",
       "    <tr>\n",
       "      <th>Diarium (USAL)</th>\n",
       "      <td>1</td>\n",
       "    </tr>\n",
       "    <tr>\n",
       "      <th>Proyecto Andrés de Poza</th>\n",
       "      <td>1</td>\n",
       "    </tr>\n",
       "    <tr>\n",
       "      <th>http://www.consorciomadrono.es/disponibles-los-videos-jornadas-futuro</th>\n",
       "      <td>1</td>\n",
       "    </tr>\n",
       "  </tbody>\n",
       "</table>\n",
       "</div>"
      ],
      "text/plain": [
       "                                                      0\n",
       "Bibliografía                                        276\n",
       "Agencia Estatal de Investigación                     90\n",
       "Congresos Humanidades Digitales Hispánicas           46\n",
       "GrinUGR                                              32\n",
       "Fuente propia                                        24\n",
       "Congreso Territorio digitales                        23\n",
       "CONGRESO INTERNACIONAL HUMANIDADES DIGITALES: V...   20\n",
       "Fundación BBVA                                       15\n",
       "Red Knowmetrics                                      13\n",
       "Proyectos subvencionados RecerCaixa                  12\n",
       "Google                                               11\n",
       "Web personal                                         11\n",
       "Proyectos MediaLab UGR                                5\n",
       "I Jornada científico-técnica en Humanidades Dig...    5\n",
       "Academia.edu                                          4\n",
       "LINHD                                                 4\n",
       "Biblioteca Virtual Miguel de Cervantes                3\n",
       "Jornada: Proyectos de humanidades digitales en ...    3\n",
       "Seminario Historia y Humanidades Digitales UCLM...    3\n",
       "I EDICIÓN DE LOS PREMIOS HDH 2018                     2\n",
       "ARACNE                                                2\n",
       "-                                                     2\n",
       "Diarium (USAL)                                        1\n",
       "Proyecto Andrés de Poza                               1\n",
       "http://www.consorciomadrono.es/disponibles-los-...    1"
      ]
     },
     "execution_count": 15,
     "metadata": {},
     "output_type": "execute_result"
    }
   ],
   "source": [
    "sources_table = pd.DataFrame.from_dict(sources_dict, orient='index')\n",
    "sources_table"
   ]
  },
  {
   "cell_type": "code",
   "execution_count": null,
   "metadata": {},
   "outputs": [],
   "source": []
  }
 ],
 "metadata": {
  "kernelspec": {
   "display_name": "Python 3",
   "language": "python",
   "name": "python3"
  },
  "language_info": {
   "codemirror_mode": {
    "name": "ipython",
    "version": 3
   },
   "file_extension": ".py",
   "mimetype": "text/x-python",
   "name": "python",
   "nbconvert_exporter": "python",
   "pygments_lexer": "ipython3",
   "version": "3.7.3"
  }
 },
 "nbformat": 4,
 "nbformat_minor": 2
}
