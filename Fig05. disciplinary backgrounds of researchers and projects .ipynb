{
 "cells": [
  {
   "cell_type": "markdown",
   "metadata": {},
   "source": [
    "# Fig5. Comparison among disciplinary backgrounds of researchers and projects "
   ]
  },
  {
   "cell_type": "markdown",
   "metadata": {},
   "source": [
    "#### Import libraries"
   ]
  },
  {
   "cell_type": "code",
   "execution_count": 1,
   "metadata": {},
   "outputs": [],
   "source": [
    "import matplotlib.pyplot as plt\n",
    "import matplotlib.ticker as ticker\n",
    "import numpy as np\n",
    "import pandas as pd\n",
    "\n",
    "\n",
    "plt.style.use('seaborn-muted')\n",
    "\n",
    "\n",
    "def read_csv(path):\n",
    "    \"\"\"\n",
    "    :param path: of desir the xlsx file\n",
    "    :return: String that contains all project descriptions\n",
    "    \"\"\"\n",
    "    df = pd.read_csv(path)\n",
    "    filtered_df = df.replace(np.nan, '-', regex=True)\n",
    "    \n",
    "    \n",
    "    return filtered_df"
   ]
  },
  {
   "cell_type": "markdown",
   "metadata": {},
   "source": [
    "#### Define researchers and projects data path"
   ]
  },
  {
   "cell_type": "code",
   "execution_count": 2,
   "metadata": {},
   "outputs": [],
   "source": [
    "file_path_i = \"data/mapeo_investigadores.csv\"\n",
    "file_path_p = \"data/mapeo_proyectos.csv\""
   ]
  },
  {
   "cell_type": "markdown",
   "metadata": {},
   "source": [
    "#### Define function to clean researchers data"
   ]
  },
  {
   "cell_type": "code",
   "execution_count": 3,
   "metadata": {},
   "outputs": [],
   "source": [
    "def prepare_data(investigadores, proyectos, number_of_areas):\n",
    "    investigadores = read_csv(file_path_i)\n",
    "    mini = investigadores[[\"Área de procedencia/disciplina\",\"ID investigador\"]]\n",
    "    mini.columns = [\"disciplina\", \"id\"]\n",
    "    # split disciplinary backgrounds in rows with \",\"\n",
    "    filtered_df = mini.loc[mini[\"disciplina\"].str.contains(' | ')]\n",
    "    mini = mini.loc[mini[\"disciplina\"].str.contains(' | ') != True]\n",
    "    new_discp = []\n",
    "    for row in filtered_df.itertuples():\n",
    "        for disciplina in row.disciplina.split(\" | \"):\n",
    "            new_discp.append([disciplina, row.id])\n",
    "    fix_df = pd.DataFrame(new_discp, columns=[\"disciplina\", \"id\"])\n",
    "    mini = mini.append(fix_df)\n",
    "        \n",
    "    grouped = mini.groupby(\"disciplina\")\n",
    "    df_investigadores = grouped.count().sort_values(by=['id'], ascending=False)\n",
    "    df_investigadores[\"pcts\"] = df_investigadores.apply(lambda x:100 * x / float(x.sum()))\n",
    "    df_investigadores.columns = [\"count_i\", \"researchers\"]\n",
    "\n",
    "    proyectos = read_csv(file_path_p)\n",
    "    mini = proyectos[[\"Área de procedencia/disciplina\",\"ID investigadores\"]]\n",
    "    mini = mini.drop_duplicates(subset =\"ID investigadores\", keep = \"first\") \n",
    "    mini.columns = [\"disciplina\", \"id\"]\n",
    "        \n",
    "    # split disciplinary backgrounds in rows with \",\"\n",
    "    filtered_df = mini.loc[mini[\"disciplina\"].str.contains(' | ')]\n",
    "    mini = mini.loc[mini[\"disciplina\"].str.contains(' | ') != True]\n",
    "    new_discp = []\n",
    "    for row in filtered_df.itertuples():\n",
    "        for disciplina in row.disciplina.split(\" | \"):\n",
    "            new_discp.append([disciplina, row.id])\n",
    "    fix_df = pd.DataFrame(new_discp, columns=[\"disciplina\", \"id\"])\n",
    "    mini = mini.append(fix_df)\n",
    "    \n",
    "    grouped = mini.groupby(\"disciplina\")\n",
    "    df_proyectos = grouped.count().sort_values(by=['id'], ascending=False)\n",
    "    df_proyectos[\"pcts\"] = df_proyectos.apply(lambda x:100 * x / float(x.sum()))\n",
    "    df_proyectos.columns = [\"count_p\", \"projects\"]\n",
    "    \n",
    "    result = df_investigadores.join(df_proyectos, how='outer')\n",
    "    result = result.drop(columns=['count_p', 'count_i']).reset_index()\n",
    "    del_disciplinas = [\"Arqueología\", \"Ciencias de la educación\"]\n",
    "    result = result[~result['disciplina'].isin(del_disciplinas)]\n",
    "\n",
    "    result = result.sort_values(by=['researchers'], ascending=False)\n",
    "    \n",
    "    return result"
   ]
  },
  {
   "cell_type": "markdown",
   "metadata": {},
   "source": [
    "#### Function to translate disciplinary backgrounds"
   ]
  },
  {
   "cell_type": "code",
   "execution_count": 4,
   "metadata": {},
   "outputs": [],
   "source": [
    "def translate(dataframe, column_to_translate, translations_filename):    \n",
    "    translations_df = read_csv(f\"data/{translations_filename}.csv\")\n",
    "    translations_df.columns=[\"disciplina\", \"disciplinary_background\"]\n",
    "    df_def = pd.merge(dataframe, translations_df, on=column_to_translate, how='inner', validate=\"one_to_many\")\n",
    "    return df_def"
   ]
  },
  {
   "cell_type": "markdown",
   "metadata": {},
   "source": [
    "#### Run program\n",
    "## Change 'num_of_discp' to show as many disciplinary backgrounds as you want'"
   ]
  },
  {
   "cell_type": "code",
   "execution_count": 5,
   "metadata": {},
   "outputs": [],
   "source": [
    "num_of_discp = 18\n",
    "investigadores = read_csv(file_path_i)\n",
    "proyectos = read_csv(file_path_p)\n",
    "df2 = prepare_data(investigadores, proyectos, num_of_discp)\n",
    "df2 = translate(df2, \"disciplina\", \"disciplinas\")"
   ]
  },
  {
   "cell_type": "markdown",
   "metadata": {},
   "source": [
    "#### Print horizontal bar plot"
   ]
  },
  {
   "cell_type": "code",
   "execution_count": 6,
   "metadata": {},
   "outputs": [
    {
     "data": {
      "text/plain": [
       "<Figure size 432x288 with 0 Axes>"
      ]
     },
     "metadata": {},
     "output_type": "display_data"
    },
    {
     "data": {
      "image/png": "[encoded data removed]",
      "text/plain": [
       "<Figure size 720x432 with 1 Axes>"
      ]
     },
     "metadata": {
      "needs_background": "light"
     },
     "output_type": "display_data"
    }
   ],
   "source": [
    "plt.figure()\n",
    "ax = df2.head(num_of_discp).plot.barh(x=\"disciplinary_background\", figsize=(10,6), legend=True)\n",
    "ax.set_ylabel(\"\")\n",
    "ax.xaxis.tick_top() \n",
    "ax.invert_yaxis()\n",
    "ax.xaxis.set_major_formatter(ticker.PercentFormatter(decimals=0))\n",
    "plt.grid(axis='x')\n",
    "plt.legend(loc='lower right')\n",
    "plt.show()"
   ]
  },
  {
   "cell_type": "code",
   "execution_count": 7,
   "metadata": {},
   "outputs": [
    {
     "data": {
      "text/html": [
       "<div>\n",
       "<style scoped>\n",
       "    .dataframe tbody tr th:only-of-type {\n",
       "        vertical-align: middle;\n",
       "    }\n",
       "\n",
       "    .dataframe tbody tr th {\n",
       "        vertical-align: top;\n",
       "    }\n",
       "\n",
       "    .dataframe thead th {\n",
       "        text-align: right;\n",
       "    }\n",
       "</style>\n",
       "<table border=\"1\" class=\"dataframe\">\n",
       "  <thead>\n",
       "    <tr style=\"text-align: right;\">\n",
       "      <th></th>\n",
       "      <th>disciplina</th>\n",
       "      <th>researchers</th>\n",
       "      <th>projects</th>\n",
       "      <th>disciplinary_background</th>\n",
       "    </tr>\n",
       "  </thead>\n",
       "  <tbody>\n",
       "    <tr>\n",
       "      <th>0</th>\n",
       "      <td>Filología</td>\n",
       "      <td>32.913386</td>\n",
       "      <td>44.444444</td>\n",
       "      <td>Philology</td>\n",
       "    </tr>\n",
       "    <tr>\n",
       "      <th>1</th>\n",
       "      <td>Historia</td>\n",
       "      <td>14.960630</td>\n",
       "      <td>18.954248</td>\n",
       "      <td>History</td>\n",
       "    </tr>\n",
       "    <tr>\n",
       "      <th>2</th>\n",
       "      <td>Ciencias de la computación</td>\n",
       "      <td>9.763780</td>\n",
       "      <td>7.516340</td>\n",
       "      <td>Computer Science</td>\n",
       "    </tr>\n",
       "    <tr>\n",
       "      <th>3</th>\n",
       "      <td>Comunicación</td>\n",
       "      <td>7.716535</td>\n",
       "      <td>NaN</td>\n",
       "      <td>Communication</td>\n",
       "    </tr>\n",
       "    <tr>\n",
       "      <th>4</th>\n",
       "      <td>Biblioteconomía y documentación</td>\n",
       "      <td>7.244094</td>\n",
       "      <td>2.941176</td>\n",
       "      <td>Library and Documentation Science</td>\n",
       "    </tr>\n",
       "    <tr>\n",
       "      <th>5</th>\n",
       "      <td>Historia del Arte</td>\n",
       "      <td>4.881890</td>\n",
       "      <td>6.862745</td>\n",
       "      <td>History of Art</td>\n",
       "    </tr>\n",
       "    <tr>\n",
       "      <th>6</th>\n",
       "      <td>Lingüística y lenguas</td>\n",
       "      <td>3.779528</td>\n",
       "      <td>5.228758</td>\n",
       "      <td>Linguistics</td>\n",
       "    </tr>\n",
       "    <tr>\n",
       "      <th>7</th>\n",
       "      <td>Filosofía</td>\n",
       "      <td>2.519685</td>\n",
       "      <td>0.653595</td>\n",
       "      <td>Philosophy</td>\n",
       "    </tr>\n",
       "    <tr>\n",
       "      <th>8</th>\n",
       "      <td>Geografía</td>\n",
       "      <td>2.519685</td>\n",
       "      <td>1.307190</td>\n",
       "      <td>Geography</td>\n",
       "    </tr>\n",
       "    <tr>\n",
       "      <th>9</th>\n",
       "      <td>Artes visuales</td>\n",
       "      <td>2.204724</td>\n",
       "      <td>3.267974</td>\n",
       "      <td>Visual Arts</td>\n",
       "    </tr>\n",
       "    <tr>\n",
       "      <th>10</th>\n",
       "      <td>Antropología</td>\n",
       "      <td>1.574803</td>\n",
       "      <td>NaN</td>\n",
       "      <td>Anthropology</td>\n",
       "    </tr>\n",
       "    <tr>\n",
       "      <th>11</th>\n",
       "      <td>Sociología</td>\n",
       "      <td>0.629921</td>\n",
       "      <td>2.287582</td>\n",
       "      <td>Sociology</td>\n",
       "    </tr>\n",
       "    <tr>\n",
       "      <th>12</th>\n",
       "      <td>Derecho</td>\n",
       "      <td>0.472441</td>\n",
       "      <td>NaN</td>\n",
       "      <td>Law</td>\n",
       "    </tr>\n",
       "    <tr>\n",
       "      <th>13</th>\n",
       "      <td>Musicología</td>\n",
       "      <td>0.472441</td>\n",
       "      <td>0.653595</td>\n",
       "      <td>Musicology</td>\n",
       "    </tr>\n",
       "    <tr>\n",
       "      <th>14</th>\n",
       "      <td>Economía</td>\n",
       "      <td>0.314961</td>\n",
       "      <td>NaN</td>\n",
       "      <td>Economy</td>\n",
       "    </tr>\n",
       "    <tr>\n",
       "      <th>15</th>\n",
       "      <td>Arquitectura</td>\n",
       "      <td>0.157480</td>\n",
       "      <td>NaN</td>\n",
       "      <td>Architecture</td>\n",
       "    </tr>\n",
       "    <tr>\n",
       "      <th>16</th>\n",
       "      <td>Otras</td>\n",
       "      <td>0.157480</td>\n",
       "      <td>NaN</td>\n",
       "      <td>Others</td>\n",
       "    </tr>\n",
       "    <tr>\n",
       "      <th>17</th>\n",
       "      <td>Urbanismo</td>\n",
       "      <td>0.157480</td>\n",
       "      <td>NaN</td>\n",
       "      <td>Urbanism</td>\n",
       "    </tr>\n",
       "    <tr>\n",
       "      <th>18</th>\n",
       "      <td>Ciencias de la Tierra</td>\n",
       "      <td>NaN</td>\n",
       "      <td>0.326797</td>\n",
       "      <td>Earth Science</td>\n",
       "    </tr>\n",
       "  </tbody>\n",
       "</table>\n",
       "</div>"
      ],
      "text/plain": [
       "                         disciplina  researchers   projects  \\\n",
       "0                         Filología    32.913386  44.444444   \n",
       "1                          Historia    14.960630  18.954248   \n",
       "2        Ciencias de la computación     9.763780   7.516340   \n",
       "3                      Comunicación     7.716535        NaN   \n",
       "4   Biblioteconomía y documentación     7.244094   2.941176   \n",
       "5                 Historia del Arte     4.881890   6.862745   \n",
       "6             Lingüística y lenguas     3.779528   5.228758   \n",
       "7                         Filosofía     2.519685   0.653595   \n",
       "8                         Geografía     2.519685   1.307190   \n",
       "9                    Artes visuales     2.204724   3.267974   \n",
       "10                     Antropología     1.574803        NaN   \n",
       "11                       Sociología     0.629921   2.287582   \n",
       "12                          Derecho     0.472441        NaN   \n",
       "13                      Musicología     0.472441   0.653595   \n",
       "14                         Economía     0.314961        NaN   \n",
       "15                     Arquitectura     0.157480        NaN   \n",
       "16                            Otras     0.157480        NaN   \n",
       "17                        Urbanismo     0.157480        NaN   \n",
       "18            Ciencias de la Tierra          NaN   0.326797   \n",
       "\n",
       "              disciplinary_background  \n",
       "0                           Philology  \n",
       "1                             History  \n",
       "2                    Computer Science  \n",
       "3                       Communication  \n",
       "4   Library and Documentation Science  \n",
       "5                      History of Art  \n",
       "6                         Linguistics  \n",
       "7                          Philosophy  \n",
       "8                           Geography  \n",
       "9                         Visual Arts  \n",
       "10                       Anthropology  \n",
       "11                          Sociology  \n",
       "12                                Law  \n",
       "13                         Musicology  \n",
       "14                            Economy  \n",
       "15                       Architecture  \n",
       "16                             Others  \n",
       "17                           Urbanism  \n",
       "18                      Earth Science  "
      ]
     },
     "execution_count": 7,
     "metadata": {},
     "output_type": "execute_result"
    }
   ],
   "source": [
    "df2"
   ]
  }
 ],
 "metadata": {
  "kernelspec": {
   "display_name": "Python 3",
   "language": "python",
   "name": "python3"
  },
  "language_info": {
   "codemirror_mode": {
    "name": "ipython",
    "version": 3
   },
   "file_extension": ".py",
   "mimetype": "text/x-python",
   "name": "python",
   "nbconvert_exporter": "python",
   "pygments_lexer": "ipython3",
   "version": "3.7.5"
  }
 },
 "nbformat": 4,
 "nbformat_minor": 2
}
